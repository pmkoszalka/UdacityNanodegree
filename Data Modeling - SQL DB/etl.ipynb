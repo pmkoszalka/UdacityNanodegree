{
 "cells": [
  {
   "cell_type": "markdown",
   "id": "7277e806",
   "metadata": {},
   "source": [
    "# ETL process"
   ]
  },
  {
   "cell_type": "markdown",
   "id": "b8655f17",
   "metadata": {},
   "source": [
    "### The purpose of this notebook is to develop the ETL process for each of the tables and prepare data for insertion process"
   ]
  },
  {
   "cell_type": "code",
   "execution_count": 1,
   "id": "3b7d2f5e",
   "metadata": {},
   "outputs": [],
   "source": [
    "# imports necessary libraries\n",
    "\n",
    "import os\n",
    "import zipfile\n",
    "import numpy as np\n",
    "import pandas as pd"
   ]
  },
  {
   "cell_type": "code",
   "execution_count": 2,
   "id": "3a4682cf",
   "metadata": {},
   "outputs": [
    {
     "name": "stdout",
     "output_type": "stream",
     "text": [
      "Folder data is in your CWD!\n"
     ]
    }
   ],
   "source": [
    "# if folder data was not present in the CWD, it is being extracted from data.zip\n",
    "\n",
    "mypath = os.getcwd()\n",
    "dirpath, dirnames, filenames = next(os.walk(mypath))\n",
    "if 'data' not in dirnames:\n",
    "    with zipfile.ZipFile('data.zip', 'r') as zip_ref:\n",
    "        zip_ref.extractall('')\n",
    "else:\n",
    "    print('Folder data is in your CWD!')"
   ]
  },
  {
   "cell_type": "code",
   "execution_count": 3,
   "id": "d5857233",
   "metadata": {},
   "outputs": [],
   "source": [
    "# removes empty folders that were presnet in data folder and stores paths to files in paths list\n",
    "\n",
    "paths = []\n",
    "for (dirpath, dirnames, filenames) in os.walk(mypath):\n",
    "    if not (dirnames or filenames):\n",
    "        os.rmdir(dirpath)\n",
    "    if any(True for file in filenames if file.endswith('json')):\n",
    "        for file in filenames:\n",
    "            paths.append(os.path.join(dirpath, file))"
   ]
  },
  {
   "cell_type": "code",
   "execution_count": 4,
   "id": "8e070c40",
   "metadata": {},
   "outputs": [],
   "source": [
    "# seperates paths to files into two categories: songs and logs\n",
    "\n",
    "songs = []\n",
    "logs = []\n",
    "for file in paths:\n",
    "    if 'song' in file:\n",
    "        songs.append(file)\n",
    "    else:\n",
    "        logs.append(file)"
   ]
  },
  {
   "cell_type": "code",
   "execution_count": 5,
   "id": "055f47df",
   "metadata": {},
   "outputs": [],
   "source": [
    "# creates logs df\n",
    "\n",
    "logs_df = pd.read_json(logs[0], lines=True)\n",
    "for log in logs[1:]:\n",
    "    try:\n",
    "        logs_df = pd.concat([logs_df, pd.read_json(log, lines=True)])\n",
    "    except:\n",
    "        pass"
   ]
  },
  {
   "cell_type": "code",
   "execution_count": 6,
   "id": "9c6a0038",
   "metadata": {},
   "outputs": [],
   "source": [
    "# creates songs df\n",
    "\n",
    "songs_df = pd.read_json(songs[0], lines=True)\n",
    "for song in songs[1:]:\n",
    "    songs_df = pd.concat([songs_df, pd.read_json(song, lines=True)])"
   ]
  },
  {
   "cell_type": "code",
   "execution_count": 7,
   "id": "92ba9c21",
   "metadata": {},
   "outputs": [],
   "source": [
    "# creates users df, cleans data and stores it in a list of tuples form\n",
    "\n",
    "users = logs_df[['userId','firstName', 'lastName', 'gender', 'level']].copy()\n",
    "users['userId'] = users['userId'].astype(str)\n",
    "users.drop_duplicates(inplace=True, subset='userId', keep=\"first\")\n",
    "users.dropna(inplace=True)\n",
    "users['userId'] = users['userId'].astype(int)\n",
    "users_data = [tuple(row.values) for idx,row in users.iterrows()]"
   ]
  },
  {
   "cell_type": "code",
   "execution_count": 8,
   "id": "48c61b3c",
   "metadata": {},
   "outputs": [],
   "source": [
    "# creates songs df, cleans data and stores it in a list of tuples form\n",
    "\n",
    "songs = songs_df[['song_id', 'title', 'artist_id', 'year', 'duration']].copy()\n",
    "songs.drop_duplicates(inplace=True, subset='song_id', keep=\"first\")\n",
    "songs_data = [tuple(row.values) for idx,row in songs.iterrows()]"
   ]
  },
  {
   "cell_type": "code",
   "execution_count": 9,
   "id": "4606d9f3",
   "metadata": {},
   "outputs": [],
   "source": [
    "# creates artists df, cleans data and stores it in a list of tuples form\n",
    "\n",
    "artists = songs_df[['artist_id', 'artist_name', 'artist_location', 'artist_latitude', 'artist_longitude']].copy()\n",
    "artists.drop_duplicates(inplace=True)\n",
    "artists_data = [tuple(row.values) for idx,row in artists.iterrows()]"
   ]
  },
  {
   "cell_type": "code",
   "execution_count": 10,
   "id": "4ec0fe64",
   "metadata": {},
   "outputs": [],
   "source": [
    "# creates time df, cleans data and stores it in a list of tuples form\n",
    "\n",
    "time = pd.DataFrame(pd.to_datetime(logs_df['ts'], unit='ms'))\n",
    "time['hour'] = time['ts'].dt.hour\n",
    "time['day'] = time['ts'].dt.day\n",
    "time['week'] = time['ts'].dt.isocalendar().week\n",
    "time['month'] = time['ts'].dt.month\n",
    "time['year'] = time['ts'].dt.year\n",
    "time['weekday'] = time['ts'].dt.weekday\n",
    "time.drop_duplicates(inplace=True)\n",
    "time_data = [tuple(row.values) for idx,row in time.iterrows()]"
   ]
  },
  {
   "cell_type": "code",
   "execution_count": 11,
   "id": "b8b53f28",
   "metadata": {},
   "outputs": [],
   "source": [
    "# creates songplays df, cleans data and stores it in a list of tuples form\n",
    "\n",
    "z = pd.merge(how ='outer', left=logs_df, right=songs_df, left_on=['artist', 'length'], right_on=['artist_name','duration'])\n",
    "songplays=z[['ts', 'userId', 'level', 'song_id', 'artist_id', 'sessionId', 'location', 'userAgent']].copy()\n",
    "\n",
    "songplays['ts'] = pd.to_datetime(songplays['ts'], unit='ms')\n",
    "songplays['songplay_id']= [num for num in range(len(songplays))]\n",
    "songplays = songplays[['songplay_id', 'ts', 'userId', 'level', 'song_id', 'artist_id', 'sessionId', 'location', 'userAgent']]\n",
    "\n",
    "idx_list = songplays[songplays['userId']==''].index\n",
    "songplays.drop(idx_list, inplace=True)\n",
    "\n",
    "idx_list = songplays['ts'][songplays['ts'].isnull()==True].index\n",
    "songplays.drop(idx_list, inplace=True)\n",
    "songplays_data = [tuple(row.values) for idx,row in songplays.iterrows()]"
   ]
  }
 ],
 "metadata": {
  "kernelspec": {
   "display_name": "Python 3 (ipykernel)",
   "language": "python",
   "name": "python3"
  },
  "language_info": {
   "codemirror_mode": {
    "name": "ipython",
    "version": 3
   },
   "file_extension": ".py",
   "mimetype": "text/x-python",
   "name": "python",
   "nbconvert_exporter": "python",
   "pygments_lexer": "ipython3",
   "version": "3.10.1"
  }
 },
 "nbformat": 4,
 "nbformat_minor": 5
}
