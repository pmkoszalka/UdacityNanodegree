{
 "cells": [
  {
   "cell_type": "markdown",
   "id": "1f857a24",
   "metadata": {},
   "source": [
    "<h1><center> Project 1 - Data Wrangling"
   ]
  },
  {
   "cell_type": "code",
   "execution_count": 1,
   "id": "12505494",
   "metadata": {},
   "outputs": [],
   "source": [
    "import pandas as pd\n",
    "import numpy as np\n",
    "import requests\n",
    "import tweepy\n",
    "import time\n",
    "import matplotlib.pyplot as plt\n",
    "import seaborn as sns\n",
    "sns.set(rc={'figure.figsize':(16,8)})\n",
    "import re"
   ]
  },
  {
   "cell_type": "markdown",
   "id": "9c9940a4",
   "metadata": {},
   "source": [
    "<h1> Gathering data </h1>"
   ]
  },
  {
   "cell_type": "markdown",
   "id": "670c6d26",
   "metadata": {},
   "source": [
    "We will gather data from three sources:\n",
    "1) From csv file given to us\n",
    "\n",
    "2) From tsv file in the server\n",
    "\n",
    "3) From Twitter API"
   ]
  },
  {
   "cell_type": "markdown",
   "id": "fb7d909d",
   "metadata": {},
   "source": [
    "### 1) Gathering data from csv file."
   ]
  },
  {
   "cell_type": "code",
   "execution_count": 2,
   "id": "d6564dc2",
   "metadata": {},
   "outputs": [],
   "source": [
    "twitter_data = pd.read_csv(r'twitter-archive-enhanced.csv' )"
   ]
  },
  {
   "cell_type": "markdown",
   "id": "434ca2ae",
   "metadata": {},
   "source": [
    "###### Test"
   ]
  },
  {
   "cell_type": "code",
   "execution_count": 3,
   "id": "5143d8d1",
   "metadata": {},
   "outputs": [
    {
     "data": {
      "text/html": [
       "<div>\n",
       "<style scoped>\n",
       "    .dataframe tbody tr th:only-of-type {\n",
       "        vertical-align: middle;\n",
       "    }\n",
       "\n",
       "    .dataframe tbody tr th {\n",
       "        vertical-align: top;\n",
       "    }\n",
       "\n",
       "    .dataframe thead th {\n",
       "        text-align: right;\n",
       "    }\n",
       "</style>\n",
       "<table border=\"1\" class=\"dataframe\">\n",
       "  <thead>\n",
       "    <tr style=\"text-align: right;\">\n",
       "      <th></th>\n",
       "      <th>tweet_id</th>\n",
       "      <th>in_reply_to_status_id</th>\n",
       "      <th>in_reply_to_user_id</th>\n",
       "      <th>timestamp</th>\n",
       "      <th>source</th>\n",
       "      <th>text</th>\n",
       "      <th>retweeted_status_id</th>\n",
       "      <th>retweeted_status_user_id</th>\n",
       "      <th>retweeted_status_timestamp</th>\n",
       "      <th>expanded_urls</th>\n",
       "      <th>rating_numerator</th>\n",
       "      <th>rating_denominator</th>\n",
       "      <th>name</th>\n",
       "      <th>doggo</th>\n",
       "      <th>floofer</th>\n",
       "      <th>pupper</th>\n",
       "      <th>puppo</th>\n",
       "    </tr>\n",
       "  </thead>\n",
       "  <tbody>\n",
       "    <tr>\n",
       "      <th>0</th>\n",
       "      <td>892420643555336193</td>\n",
       "      <td>NaN</td>\n",
       "      <td>NaN</td>\n",
       "      <td>2017-08-01 16:23:56 +0000</td>\n",
       "      <td>&lt;a href=\"http://twitter.com/download/iphone\" r...</td>\n",
       "      <td>This is Phineas. He's a mystical boy. Only eve...</td>\n",
       "      <td>NaN</td>\n",
       "      <td>NaN</td>\n",
       "      <td>NaN</td>\n",
       "      <td>https://twitter.com/dog_rates/status/892420643...</td>\n",
       "      <td>13</td>\n",
       "      <td>10</td>\n",
       "      <td>Phineas</td>\n",
       "      <td>None</td>\n",
       "      <td>None</td>\n",
       "      <td>None</td>\n",
       "      <td>None</td>\n",
       "    </tr>\n",
       "    <tr>\n",
       "      <th>1</th>\n",
       "      <td>892177421306343426</td>\n",
       "      <td>NaN</td>\n",
       "      <td>NaN</td>\n",
       "      <td>2017-08-01 00:17:27 +0000</td>\n",
       "      <td>&lt;a href=\"http://twitter.com/download/iphone\" r...</td>\n",
       "      <td>This is Tilly. She's just checking pup on you....</td>\n",
       "      <td>NaN</td>\n",
       "      <td>NaN</td>\n",
       "      <td>NaN</td>\n",
       "      <td>https://twitter.com/dog_rates/status/892177421...</td>\n",
       "      <td>13</td>\n",
       "      <td>10</td>\n",
       "      <td>Tilly</td>\n",
       "      <td>None</td>\n",
       "      <td>None</td>\n",
       "      <td>None</td>\n",
       "      <td>None</td>\n",
       "    </tr>\n",
       "    <tr>\n",
       "      <th>2</th>\n",
       "      <td>891815181378084864</td>\n",
       "      <td>NaN</td>\n",
       "      <td>NaN</td>\n",
       "      <td>2017-07-31 00:18:03 +0000</td>\n",
       "      <td>&lt;a href=\"http://twitter.com/download/iphone\" r...</td>\n",
       "      <td>This is Archie. He is a rare Norwegian Pouncin...</td>\n",
       "      <td>NaN</td>\n",
       "      <td>NaN</td>\n",
       "      <td>NaN</td>\n",
       "      <td>https://twitter.com/dog_rates/status/891815181...</td>\n",
       "      <td>12</td>\n",
       "      <td>10</td>\n",
       "      <td>Archie</td>\n",
       "      <td>None</td>\n",
       "      <td>None</td>\n",
       "      <td>None</td>\n",
       "      <td>None</td>\n",
       "    </tr>\n",
       "    <tr>\n",
       "      <th>3</th>\n",
       "      <td>891689557279858688</td>\n",
       "      <td>NaN</td>\n",
       "      <td>NaN</td>\n",
       "      <td>2017-07-30 15:58:51 +0000</td>\n",
       "      <td>&lt;a href=\"http://twitter.com/download/iphone\" r...</td>\n",
       "      <td>This is Darla. She commenced a snooze mid meal...</td>\n",
       "      <td>NaN</td>\n",
       "      <td>NaN</td>\n",
       "      <td>NaN</td>\n",
       "      <td>https://twitter.com/dog_rates/status/891689557...</td>\n",
       "      <td>13</td>\n",
       "      <td>10</td>\n",
       "      <td>Darla</td>\n",
       "      <td>None</td>\n",
       "      <td>None</td>\n",
       "      <td>None</td>\n",
       "      <td>None</td>\n",
       "    </tr>\n",
       "    <tr>\n",
       "      <th>4</th>\n",
       "      <td>891327558926688256</td>\n",
       "      <td>NaN</td>\n",
       "      <td>NaN</td>\n",
       "      <td>2017-07-29 16:00:24 +0000</td>\n",
       "      <td>&lt;a href=\"http://twitter.com/download/iphone\" r...</td>\n",
       "      <td>This is Franklin. He would like you to stop ca...</td>\n",
       "      <td>NaN</td>\n",
       "      <td>NaN</td>\n",
       "      <td>NaN</td>\n",
       "      <td>https://twitter.com/dog_rates/status/891327558...</td>\n",
       "      <td>12</td>\n",
       "      <td>10</td>\n",
       "      <td>Franklin</td>\n",
       "      <td>None</td>\n",
       "      <td>None</td>\n",
       "      <td>None</td>\n",
       "      <td>None</td>\n",
       "    </tr>\n",
       "  </tbody>\n",
       "</table>\n",
       "</div>"
      ],
      "text/plain": [
       "             tweet_id  in_reply_to_status_id  in_reply_to_user_id  \\\n",
       "0  892420643555336193                    NaN                  NaN   \n",
       "1  892177421306343426                    NaN                  NaN   \n",
       "2  891815181378084864                    NaN                  NaN   \n",
       "3  891689557279858688                    NaN                  NaN   \n",
       "4  891327558926688256                    NaN                  NaN   \n",
       "\n",
       "                   timestamp  \\\n",
       "0  2017-08-01 16:23:56 +0000   \n",
       "1  2017-08-01 00:17:27 +0000   \n",
       "2  2017-07-31 00:18:03 +0000   \n",
       "3  2017-07-30 15:58:51 +0000   \n",
       "4  2017-07-29 16:00:24 +0000   \n",
       "\n",
       "                                              source  \\\n",
       "0  <a href=\"http://twitter.com/download/iphone\" r...   \n",
       "1  <a href=\"http://twitter.com/download/iphone\" r...   \n",
       "2  <a href=\"http://twitter.com/download/iphone\" r...   \n",
       "3  <a href=\"http://twitter.com/download/iphone\" r...   \n",
       "4  <a href=\"http://twitter.com/download/iphone\" r...   \n",
       "\n",
       "                                                text  retweeted_status_id  \\\n",
       "0  This is Phineas. He's a mystical boy. Only eve...                  NaN   \n",
       "1  This is Tilly. She's just checking pup on you....                  NaN   \n",
       "2  This is Archie. He is a rare Norwegian Pouncin...                  NaN   \n",
       "3  This is Darla. She commenced a snooze mid meal...                  NaN   \n",
       "4  This is Franklin. He would like you to stop ca...                  NaN   \n",
       "\n",
       "   retweeted_status_user_id retweeted_status_timestamp  \\\n",
       "0                       NaN                        NaN   \n",
       "1                       NaN                        NaN   \n",
       "2                       NaN                        NaN   \n",
       "3                       NaN                        NaN   \n",
       "4                       NaN                        NaN   \n",
       "\n",
       "                                       expanded_urls  rating_numerator  \\\n",
       "0  https://twitter.com/dog_rates/status/892420643...                13   \n",
       "1  https://twitter.com/dog_rates/status/892177421...                13   \n",
       "2  https://twitter.com/dog_rates/status/891815181...                12   \n",
       "3  https://twitter.com/dog_rates/status/891689557...                13   \n",
       "4  https://twitter.com/dog_rates/status/891327558...                12   \n",
       "\n",
       "   rating_denominator      name doggo floofer pupper puppo  \n",
       "0                  10   Phineas  None    None   None  None  \n",
       "1                  10     Tilly  None    None   None  None  \n",
       "2                  10    Archie  None    None   None  None  \n",
       "3                  10     Darla  None    None   None  None  \n",
       "4                  10  Franklin  None    None   None  None  "
      ]
     },
     "execution_count": 3,
     "metadata": {},
     "output_type": "execute_result"
    }
   ],
   "source": [
    "twitter_data.head()"
   ]
  },
  {
   "cell_type": "markdown",
   "id": "be16eb40",
   "metadata": {},
   "source": [
    "### 2) Gathering data from tsv file on the server"
   ]
  },
  {
   "cell_type": "code",
   "execution_count": 4,
   "id": "e14d49c9",
   "metadata": {},
   "outputs": [],
   "source": [
    "url = r'https://d17h27t6h515a5.cloudfront.net/topher/2017/August/599fd2ad_image-predictions/image-predictions.tsv'\n",
    "r = requests.get(url)\n",
    "\n",
    "with open(r'image_predictions.tsv', mode='wb+') as f:\n",
    "    f.write(r.content)"
   ]
  },
  {
   "cell_type": "code",
   "execution_count": 5,
   "id": "d8d415be",
   "metadata": {},
   "outputs": [],
   "source": [
    "twitter_image_predicitons = pd.read_csv(r'image_predictions.tsv', delimiter='\\t')"
   ]
  },
  {
   "cell_type": "markdown",
   "id": "f43da41e",
   "metadata": {},
   "source": [
    "##### Test"
   ]
  },
  {
   "cell_type": "code",
   "execution_count": 6,
   "id": "9ea33950",
   "metadata": {},
   "outputs": [
    {
     "data": {
      "text/html": [
       "<div>\n",
       "<style scoped>\n",
       "    .dataframe tbody tr th:only-of-type {\n",
       "        vertical-align: middle;\n",
       "    }\n",
       "\n",
       "    .dataframe tbody tr th {\n",
       "        vertical-align: top;\n",
       "    }\n",
       "\n",
       "    .dataframe thead th {\n",
       "        text-align: right;\n",
       "    }\n",
       "</style>\n",
       "<table border=\"1\" class=\"dataframe\">\n",
       "  <thead>\n",
       "    <tr style=\"text-align: right;\">\n",
       "      <th></th>\n",
       "      <th>tweet_id</th>\n",
       "      <th>jpg_url</th>\n",
       "      <th>img_num</th>\n",
       "      <th>p1</th>\n",
       "      <th>p1_conf</th>\n",
       "      <th>p1_dog</th>\n",
       "      <th>p2</th>\n",
       "      <th>p2_conf</th>\n",
       "      <th>p2_dog</th>\n",
       "      <th>p3</th>\n",
       "      <th>p3_conf</th>\n",
       "      <th>p3_dog</th>\n",
       "    </tr>\n",
       "  </thead>\n",
       "  <tbody>\n",
       "    <tr>\n",
       "      <th>0</th>\n",
       "      <td>666020888022790149</td>\n",
       "      <td>https://pbs.twimg.com/media/CT4udn0WwAA0aMy.jpg</td>\n",
       "      <td>1</td>\n",
       "      <td>Welsh_springer_spaniel</td>\n",
       "      <td>0.465074</td>\n",
       "      <td>True</td>\n",
       "      <td>collie</td>\n",
       "      <td>0.156665</td>\n",
       "      <td>True</td>\n",
       "      <td>Shetland_sheepdog</td>\n",
       "      <td>0.061428</td>\n",
       "      <td>True</td>\n",
       "    </tr>\n",
       "    <tr>\n",
       "      <th>1</th>\n",
       "      <td>666029285002620928</td>\n",
       "      <td>https://pbs.twimg.com/media/CT42GRgUYAA5iDo.jpg</td>\n",
       "      <td>1</td>\n",
       "      <td>redbone</td>\n",
       "      <td>0.506826</td>\n",
       "      <td>True</td>\n",
       "      <td>miniature_pinscher</td>\n",
       "      <td>0.074192</td>\n",
       "      <td>True</td>\n",
       "      <td>Rhodesian_ridgeback</td>\n",
       "      <td>0.072010</td>\n",
       "      <td>True</td>\n",
       "    </tr>\n",
       "    <tr>\n",
       "      <th>2</th>\n",
       "      <td>666033412701032449</td>\n",
       "      <td>https://pbs.twimg.com/media/CT4521TWwAEvMyu.jpg</td>\n",
       "      <td>1</td>\n",
       "      <td>German_shepherd</td>\n",
       "      <td>0.596461</td>\n",
       "      <td>True</td>\n",
       "      <td>malinois</td>\n",
       "      <td>0.138584</td>\n",
       "      <td>True</td>\n",
       "      <td>bloodhound</td>\n",
       "      <td>0.116197</td>\n",
       "      <td>True</td>\n",
       "    </tr>\n",
       "    <tr>\n",
       "      <th>3</th>\n",
       "      <td>666044226329800704</td>\n",
       "      <td>https://pbs.twimg.com/media/CT5Dr8HUEAA-lEu.jpg</td>\n",
       "      <td>1</td>\n",
       "      <td>Rhodesian_ridgeback</td>\n",
       "      <td>0.408143</td>\n",
       "      <td>True</td>\n",
       "      <td>redbone</td>\n",
       "      <td>0.360687</td>\n",
       "      <td>True</td>\n",
       "      <td>miniature_pinscher</td>\n",
       "      <td>0.222752</td>\n",
       "      <td>True</td>\n",
       "    </tr>\n",
       "    <tr>\n",
       "      <th>4</th>\n",
       "      <td>666049248165822465</td>\n",
       "      <td>https://pbs.twimg.com/media/CT5IQmsXIAAKY4A.jpg</td>\n",
       "      <td>1</td>\n",
       "      <td>miniature_pinscher</td>\n",
       "      <td>0.560311</td>\n",
       "      <td>True</td>\n",
       "      <td>Rottweiler</td>\n",
       "      <td>0.243682</td>\n",
       "      <td>True</td>\n",
       "      <td>Doberman</td>\n",
       "      <td>0.154629</td>\n",
       "      <td>True</td>\n",
       "    </tr>\n",
       "  </tbody>\n",
       "</table>\n",
       "</div>"
      ],
      "text/plain": [
       "             tweet_id                                          jpg_url  \\\n",
       "0  666020888022790149  https://pbs.twimg.com/media/CT4udn0WwAA0aMy.jpg   \n",
       "1  666029285002620928  https://pbs.twimg.com/media/CT42GRgUYAA5iDo.jpg   \n",
       "2  666033412701032449  https://pbs.twimg.com/media/CT4521TWwAEvMyu.jpg   \n",
       "3  666044226329800704  https://pbs.twimg.com/media/CT5Dr8HUEAA-lEu.jpg   \n",
       "4  666049248165822465  https://pbs.twimg.com/media/CT5IQmsXIAAKY4A.jpg   \n",
       "\n",
       "   img_num                      p1   p1_conf  p1_dog                  p2  \\\n",
       "0        1  Welsh_springer_spaniel  0.465074    True              collie   \n",
       "1        1                 redbone  0.506826    True  miniature_pinscher   \n",
       "2        1         German_shepherd  0.596461    True            malinois   \n",
       "3        1     Rhodesian_ridgeback  0.408143    True             redbone   \n",
       "4        1      miniature_pinscher  0.560311    True          Rottweiler   \n",
       "\n",
       "    p2_conf  p2_dog                   p3   p3_conf  p3_dog  \n",
       "0  0.156665    True    Shetland_sheepdog  0.061428    True  \n",
       "1  0.074192    True  Rhodesian_ridgeback  0.072010    True  \n",
       "2  0.138584    True           bloodhound  0.116197    True  \n",
       "3  0.360687    True   miniature_pinscher  0.222752    True  \n",
       "4  0.243682    True             Doberman  0.154629    True  "
      ]
     },
     "execution_count": 6,
     "metadata": {},
     "output_type": "execute_result"
    }
   ],
   "source": [
    "twitter_image_predicitons.head()"
   ]
  },
  {
   "cell_type": "markdown",
   "id": "49b2d423",
   "metadata": {},
   "source": [
    "### 3) Gathering data from Twitter API - api script is in the different notebook\n",
    "    "
   ]
  },
  {
   "cell_type": "code",
   "execution_count": 7,
   "id": "128526dd",
   "metadata": {},
   "outputs": [],
   "source": [
    "with open(r'tweet_json.txt', 'r') as file:\n",
    "    f = file.read()"
   ]
  },
  {
   "cell_type": "code",
   "execution_count": 8,
   "id": "c877a36f",
   "metadata": {},
   "outputs": [],
   "source": [
    "twitter_api_data = pd.read_json(f, orient ='index',convert_axes=False)"
   ]
  },
  {
   "cell_type": "markdown",
   "id": "7280cb28",
   "metadata": {},
   "source": [
    "##### Test"
   ]
  },
  {
   "cell_type": "code",
   "execution_count": 9,
   "id": "b345103b",
   "metadata": {},
   "outputs": [
    {
     "data": {
      "text/html": [
       "<div>\n",
       "<style scoped>\n",
       "    .dataframe tbody tr th:only-of-type {\n",
       "        vertical-align: middle;\n",
       "    }\n",
       "\n",
       "    .dataframe tbody tr th {\n",
       "        vertical-align: top;\n",
       "    }\n",
       "\n",
       "    .dataframe thead th {\n",
       "        text-align: right;\n",
       "    }\n",
       "</style>\n",
       "<table border=\"1\" class=\"dataframe\">\n",
       "  <thead>\n",
       "    <tr style=\"text-align: right;\">\n",
       "      <th></th>\n",
       "      <th>favorite_count</th>\n",
       "      <th>retweet_count</th>\n",
       "    </tr>\n",
       "  </thead>\n",
       "  <tbody>\n",
       "    <tr>\n",
       "      <th>892420643555336193</th>\n",
       "      <td>33702.0</td>\n",
       "      <td>6976.0</td>\n",
       "    </tr>\n",
       "    <tr>\n",
       "      <th>892177421306343426</th>\n",
       "      <td>29231.0</td>\n",
       "      <td>5278.0</td>\n",
       "    </tr>\n",
       "    <tr>\n",
       "      <th>891815181378084864</th>\n",
       "      <td>21975.0</td>\n",
       "      <td>3466.0</td>\n",
       "    </tr>\n",
       "    <tr>\n",
       "      <th>891689557279858688</th>\n",
       "      <td>36778.0</td>\n",
       "      <td>7190.0</td>\n",
       "    </tr>\n",
       "    <tr>\n",
       "      <th>891327558926688256</th>\n",
       "      <td>35164.0</td>\n",
       "      <td>7723.0</td>\n",
       "    </tr>\n",
       "  </tbody>\n",
       "</table>\n",
       "</div>"
      ],
      "text/plain": [
       "                    favorite_count  retweet_count\n",
       "892420643555336193         33702.0         6976.0\n",
       "892177421306343426         29231.0         5278.0\n",
       "891815181378084864         21975.0         3466.0\n",
       "891689557279858688         36778.0         7190.0\n",
       "891327558926688256         35164.0         7723.0"
      ]
     },
     "execution_count": 9,
     "metadata": {},
     "output_type": "execute_result"
    }
   ],
   "source": [
    "twitter_api_data.head()"
   ]
  },
  {
   "cell_type": "markdown",
   "id": "b796360f",
   "metadata": {},
   "source": [
    "<h2> Assesment definitions"
   ]
  },
  {
   "cell_type": "markdown",
   "id": "79b3c245",
   "metadata": {},
   "source": [
    "<h3> Problems with data"
   ]
  },
  {
   "cell_type": "markdown",
   "id": "0a12be81",
   "metadata": {},
   "source": [
    "<b>Dirty Data </b>- \tData that has issues with data content including missing data, invalid data, inaccurate date or inconsistent data\n",
    "<br><b>Messy Data</b> -\tData that has issues with its structure (columns, rows or table)"
   ]
  },
  {
   "cell_type": "markdown",
   "id": "423c9b48",
   "metadata": {},
   "source": [
    "<h3> Data quality dimension </h3>"
   ]
  },
  {
   "cell_type": "markdown",
   "id": "ac5a75c1",
   "metadata": {},
   "source": [
    "<b>Completeness:</b> do we have all of the records that we should? Do we have missing records or not? Are there specific rows, columns, or cells missing?\n",
    "<b><br><br>Validity:</b> we have the records, but they're not valid, i.e., they don't conform to a defined schema. A schema is a defined set of rules for data. These rules can be real-world constraints (e.g. negative height is impossible) and table-specific constraints (e.g. unique key constraints in tables).\n",
    "<b><br><br>Accuracy:</b> inaccurate data is wrong data that is valid. It adheres to the defined schema, but it is still incorrect. Example: a patient's weight that is 5 lbs too heavy because the scale was faulty.\n",
    "<b><br><br>Consistency:</b> inconsistent data is both valid and accurate, but there are multiple correct ways of referring to the same thing.Consistency, i.e., a standard format, in columns that represent the same data across tables and/or within tables is desired."
   ]
  },
  {
   "cell_type": "markdown",
   "id": "4dea9344",
   "metadata": {},
   "source": [
    "#### Tidy data requirements:\n",
    "\n",
    "1) Each variable forms a column.\n",
    "\n",
    "2) Each observation forms a row.\n",
    "\n",
    "3) Each type of observational unit forms a table."
   ]
  },
  {
   "cell_type": "markdown",
   "id": "3f11b9f2",
   "metadata": {},
   "source": [
    "<h3> Ways of assesing the data"
   ]
  },
  {
   "cell_type": "markdown",
   "id": "68271912",
   "metadata": {},
   "source": [
    "<b>Visual assessment:</b> each piece of gathered data is displayed in the Jupyter Notebook for visual assessment purposes. Once displayed, data can additionally be assessed in an external application (e.g. Excel, text editor).\n",
    "<br><br><b>Programmatic assessment:</b> pandas' functions and/or methods are used to assess the data."
   ]
  },
  {
   "cell_type": "markdown",
   "id": "b43d1e16",
   "metadata": {},
   "source": [
    "<h1> Data assesment"
   ]
  },
  {
   "cell_type": "markdown",
   "id": "0b709e6a",
   "metadata": {},
   "source": [
    "### 1) Assesment of twitter_data table"
   ]
  },
  {
   "cell_type": "code",
   "execution_count": 10,
   "id": "26175704",
   "metadata": {},
   "outputs": [
    {
     "data": {
      "text/html": [
       "<div>\n",
       "<style scoped>\n",
       "    .dataframe tbody tr th:only-of-type {\n",
       "        vertical-align: middle;\n",
       "    }\n",
       "\n",
       "    .dataframe tbody tr th {\n",
       "        vertical-align: top;\n",
       "    }\n",
       "\n",
       "    .dataframe thead th {\n",
       "        text-align: right;\n",
       "    }\n",
       "</style>\n",
       "<table border=\"1\" class=\"dataframe\">\n",
       "  <thead>\n",
       "    <tr style=\"text-align: right;\">\n",
       "      <th></th>\n",
       "      <th>tweet_id</th>\n",
       "      <th>in_reply_to_status_id</th>\n",
       "      <th>in_reply_to_user_id</th>\n",
       "      <th>timestamp</th>\n",
       "      <th>source</th>\n",
       "      <th>text</th>\n",
       "      <th>retweeted_status_id</th>\n",
       "      <th>retweeted_status_user_id</th>\n",
       "      <th>retweeted_status_timestamp</th>\n",
       "      <th>expanded_urls</th>\n",
       "      <th>rating_numerator</th>\n",
       "      <th>rating_denominator</th>\n",
       "      <th>name</th>\n",
       "      <th>doggo</th>\n",
       "      <th>floofer</th>\n",
       "      <th>pupper</th>\n",
       "      <th>puppo</th>\n",
       "    </tr>\n",
       "  </thead>\n",
       "  <tbody>\n",
       "    <tr>\n",
       "      <th>0</th>\n",
       "      <td>892420643555336193</td>\n",
       "      <td>NaN</td>\n",
       "      <td>NaN</td>\n",
       "      <td>2017-08-01 16:23:56 +0000</td>\n",
       "      <td>&lt;a href=\"http://twitter.com/download/iphone\" r...</td>\n",
       "      <td>This is Phineas. He's a mystical boy. Only eve...</td>\n",
       "      <td>NaN</td>\n",
       "      <td>NaN</td>\n",
       "      <td>NaN</td>\n",
       "      <td>https://twitter.com/dog_rates/status/892420643...</td>\n",
       "      <td>13</td>\n",
       "      <td>10</td>\n",
       "      <td>Phineas</td>\n",
       "      <td>None</td>\n",
       "      <td>None</td>\n",
       "      <td>None</td>\n",
       "      <td>None</td>\n",
       "    </tr>\n",
       "    <tr>\n",
       "      <th>1</th>\n",
       "      <td>892177421306343426</td>\n",
       "      <td>NaN</td>\n",
       "      <td>NaN</td>\n",
       "      <td>2017-08-01 00:17:27 +0000</td>\n",
       "      <td>&lt;a href=\"http://twitter.com/download/iphone\" r...</td>\n",
       "      <td>This is Tilly. She's just checking pup on you....</td>\n",
       "      <td>NaN</td>\n",
       "      <td>NaN</td>\n",
       "      <td>NaN</td>\n",
       "      <td>https://twitter.com/dog_rates/status/892177421...</td>\n",
       "      <td>13</td>\n",
       "      <td>10</td>\n",
       "      <td>Tilly</td>\n",
       "      <td>None</td>\n",
       "      <td>None</td>\n",
       "      <td>None</td>\n",
       "      <td>None</td>\n",
       "    </tr>\n",
       "    <tr>\n",
       "      <th>2</th>\n",
       "      <td>891815181378084864</td>\n",
       "      <td>NaN</td>\n",
       "      <td>NaN</td>\n",
       "      <td>2017-07-31 00:18:03 +0000</td>\n",
       "      <td>&lt;a href=\"http://twitter.com/download/iphone\" r...</td>\n",
       "      <td>This is Archie. He is a rare Norwegian Pouncin...</td>\n",
       "      <td>NaN</td>\n",
       "      <td>NaN</td>\n",
       "      <td>NaN</td>\n",
       "      <td>https://twitter.com/dog_rates/status/891815181...</td>\n",
       "      <td>12</td>\n",
       "      <td>10</td>\n",
       "      <td>Archie</td>\n",
       "      <td>None</td>\n",
       "      <td>None</td>\n",
       "      <td>None</td>\n",
       "      <td>None</td>\n",
       "    </tr>\n",
       "    <tr>\n",
       "      <th>3</th>\n",
       "      <td>891689557279858688</td>\n",
       "      <td>NaN</td>\n",
       "      <td>NaN</td>\n",
       "      <td>2017-07-30 15:58:51 +0000</td>\n",
       "      <td>&lt;a href=\"http://twitter.com/download/iphone\" r...</td>\n",
       "      <td>This is Darla. She commenced a snooze mid meal...</td>\n",
       "      <td>NaN</td>\n",
       "      <td>NaN</td>\n",
       "      <td>NaN</td>\n",
       "      <td>https://twitter.com/dog_rates/status/891689557...</td>\n",
       "      <td>13</td>\n",
       "      <td>10</td>\n",
       "      <td>Darla</td>\n",
       "      <td>None</td>\n",
       "      <td>None</td>\n",
       "      <td>None</td>\n",
       "      <td>None</td>\n",
       "    </tr>\n",
       "    <tr>\n",
       "      <th>4</th>\n",
       "      <td>891327558926688256</td>\n",
       "      <td>NaN</td>\n",
       "      <td>NaN</td>\n",
       "      <td>2017-07-29 16:00:24 +0000</td>\n",
       "      <td>&lt;a href=\"http://twitter.com/download/iphone\" r...</td>\n",
       "      <td>This is Franklin. He would like you to stop ca...</td>\n",
       "      <td>NaN</td>\n",
       "      <td>NaN</td>\n",
       "      <td>NaN</td>\n",
       "      <td>https://twitter.com/dog_rates/status/891327558...</td>\n",
       "      <td>12</td>\n",
       "      <td>10</td>\n",
       "      <td>Franklin</td>\n",
       "      <td>None</td>\n",
       "      <td>None</td>\n",
       "      <td>None</td>\n",
       "      <td>None</td>\n",
       "    </tr>\n",
       "  </tbody>\n",
       "</table>\n",
       "</div>"
      ],
      "text/plain": [
       "             tweet_id  in_reply_to_status_id  in_reply_to_user_id  \\\n",
       "0  892420643555336193                    NaN                  NaN   \n",
       "1  892177421306343426                    NaN                  NaN   \n",
       "2  891815181378084864                    NaN                  NaN   \n",
       "3  891689557279858688                    NaN                  NaN   \n",
       "4  891327558926688256                    NaN                  NaN   \n",
       "\n",
       "                   timestamp  \\\n",
       "0  2017-08-01 16:23:56 +0000   \n",
       "1  2017-08-01 00:17:27 +0000   \n",
       "2  2017-07-31 00:18:03 +0000   \n",
       "3  2017-07-30 15:58:51 +0000   \n",
       "4  2017-07-29 16:00:24 +0000   \n",
       "\n",
       "                                              source  \\\n",
       "0  <a href=\"http://twitter.com/download/iphone\" r...   \n",
       "1  <a href=\"http://twitter.com/download/iphone\" r...   \n",
       "2  <a href=\"http://twitter.com/download/iphone\" r...   \n",
       "3  <a href=\"http://twitter.com/download/iphone\" r...   \n",
       "4  <a href=\"http://twitter.com/download/iphone\" r...   \n",
       "\n",
       "                                                text  retweeted_status_id  \\\n",
       "0  This is Phineas. He's a mystical boy. Only eve...                  NaN   \n",
       "1  This is Tilly. She's just checking pup on you....                  NaN   \n",
       "2  This is Archie. He is a rare Norwegian Pouncin...                  NaN   \n",
       "3  This is Darla. She commenced a snooze mid meal...                  NaN   \n",
       "4  This is Franklin. He would like you to stop ca...                  NaN   \n",
       "\n",
       "   retweeted_status_user_id retweeted_status_timestamp  \\\n",
       "0                       NaN                        NaN   \n",
       "1                       NaN                        NaN   \n",
       "2                       NaN                        NaN   \n",
       "3                       NaN                        NaN   \n",
       "4                       NaN                        NaN   \n",
       "\n",
       "                                       expanded_urls  rating_numerator  \\\n",
       "0  https://twitter.com/dog_rates/status/892420643...                13   \n",
       "1  https://twitter.com/dog_rates/status/892177421...                13   \n",
       "2  https://twitter.com/dog_rates/status/891815181...                12   \n",
       "3  https://twitter.com/dog_rates/status/891689557...                13   \n",
       "4  https://twitter.com/dog_rates/status/891327558...                12   \n",
       "\n",
       "   rating_denominator      name doggo floofer pupper puppo  \n",
       "0                  10   Phineas  None    None   None  None  \n",
       "1                  10     Tilly  None    None   None  None  \n",
       "2                  10    Archie  None    None   None  None  \n",
       "3                  10     Darla  None    None   None  None  \n",
       "4                  10  Franklin  None    None   None  None  "
      ]
     },
     "execution_count": 10,
     "metadata": {},
     "output_type": "execute_result"
    }
   ],
   "source": [
    "twitter_data.head()"
   ]
  },
  {
   "cell_type": "markdown",
   "id": "6525a36b",
   "metadata": {},
   "source": [
    "##### To do:\n",
    "- Change 'doggo floofer pupper puppo' to dog categories in twitter_data\n",
    "- Index as a unique identifier for the merged dataframe"
   ]
  },
  {
   "cell_type": "code",
   "execution_count": 11,
   "id": "ff9d8e93",
   "metadata": {},
   "outputs": [
    {
     "data": {
      "text/plain": [
       "<AxesSubplot:>"
      ]
     },
     "execution_count": 11,
     "metadata": {},
     "output_type": "execute_result"
    },
    {
     "data": {
      "image/png": "[encoded data removed]",
      "text/plain": [
       "<Figure size 1152x576 with 2 Axes>"
      ]
     },
     "metadata": {},
     "output_type": "display_data"
    }
   ],
   "source": [
    "sns.heatmap(twitter_data.isnull())"
   ]
  },
  {
   "cell_type": "markdown",
   "id": "48cb8b4c",
   "metadata": {},
   "source": [
    "##### To do:\n",
    "- fill expanded_urls where value is missing\n",
    "- delete in_reply columns and retweeted columns since nearly no records"
   ]
  },
  {
   "cell_type": "code",
   "execution_count": 12,
   "id": "249d75db",
   "metadata": {},
   "outputs": [
    {
     "name": "stdout",
     "output_type": "stream",
     "text": [
      "<class 'pandas.core.frame.DataFrame'>\n",
      "RangeIndex: 2356 entries, 0 to 2355\n",
      "Data columns (total 17 columns):\n",
      " #   Column                      Non-Null Count  Dtype  \n",
      "---  ------                      --------------  -----  \n",
      " 0   tweet_id                    2356 non-null   int64  \n",
      " 1   in_reply_to_status_id       78 non-null     float64\n",
      " 2   in_reply_to_user_id         78 non-null     float64\n",
      " 3   timestamp                   2356 non-null   object \n",
      " 4   source                      2356 non-null   object \n",
      " 5   text                        2356 non-null   object \n",
      " 6   retweeted_status_id         181 non-null    float64\n",
      " 7   retweeted_status_user_id    181 non-null    float64\n",
      " 8   retweeted_status_timestamp  181 non-null    object \n",
      " 9   expanded_urls               2297 non-null   object \n",
      " 10  rating_numerator            2356 non-null   int64  \n",
      " 11  rating_denominator          2356 non-null   int64  \n",
      " 12  name                        2356 non-null   object \n",
      " 13  doggo                       2356 non-null   object \n",
      " 14  floofer                     2356 non-null   object \n",
      " 15  pupper                      2356 non-null   object \n",
      " 16  puppo                       2356 non-null   object \n",
      "dtypes: float64(4), int64(3), object(10)\n",
      "memory usage: 313.0+ KB\n"
     ]
    }
   ],
   "source": [
    "twitter_data.info()"
   ]
  },
  {
   "cell_type": "markdown",
   "id": "b55ae6d7",
   "metadata": {},
   "source": [
    "##### To do:\n",
    "-  Change timestamps to datetime"
   ]
  },
  {
   "cell_type": "code",
   "execution_count": 13,
   "id": "38ad46c7",
   "metadata": {},
   "outputs": [
    {
     "data": {
      "text/plain": [
       "array(['<a href=\"http://twitter.com/download/iphone\" rel=\"nofollow\">Twitter for iPhone</a>',\n",
       "       '<a href=\"http://twitter.com\" rel=\"nofollow\">Twitter Web Client</a>',\n",
       "       '<a href=\"http://vine.co\" rel=\"nofollow\">Vine - Make a Scene</a>',\n",
       "       '<a href=\"https://about.twitter.com/products/tweetdeck\" rel=\"nofollow\">TweetDeck</a>'],\n",
       "      dtype=object)"
      ]
     },
     "execution_count": 13,
     "metadata": {},
     "output_type": "execute_result"
    }
   ],
   "source": [
    "twitter_data['source'].unique()"
   ]
  },
  {
   "cell_type": "markdown",
   "id": "11895793",
   "metadata": {},
   "source": [
    "##### To do:\n",
    "-  Extract the sources from source column"
   ]
  },
  {
   "cell_type": "code",
   "execution_count": 14,
   "id": "f3b63b27",
   "metadata": {},
   "outputs": [
    {
     "data": {
      "text/plain": [
       "array([ 10,   0,  15,  70,   7,  11, 150, 170,  20,  50,  90,  80,  40,\n",
       "       130, 110,  16, 120,   2], dtype=int64)"
      ]
     },
     "execution_count": 14,
     "metadata": {},
     "output_type": "execute_result"
    }
   ],
   "source": [
    "twitter_data['rating_denominator'].unique()"
   ]
  },
  {
   "cell_type": "code",
   "execution_count": 15,
   "id": "354ebac7",
   "metadata": {},
   "outputs": [
    {
     "data": {
      "text/plain": [
       "array([  13,   12,   14,    5,   17,   11,   10,  420,  666,    6,   15,\n",
       "        182,  960,    0,   75,    7,   84,    9,   24,    8,    1,   27,\n",
       "          3,    4,  165, 1776,  204,   50,   99,   80,   45,   60,   44,\n",
       "        143,  121,   20,   26,    2,  144,   88], dtype=int64)"
      ]
     },
     "execution_count": 15,
     "metadata": {},
     "output_type": "execute_result"
    }
   ],
   "source": [
    "twitter_data['rating_numerator'].unique()"
   ]
  },
  {
   "cell_type": "markdown",
   "id": "f150dcea",
   "metadata": {},
   "source": [
    "##### To do:\n",
    "-  Standardize the numerators and delete denominators as all will be 10 "
   ]
  },
  {
   "cell_type": "code",
   "execution_count": 16,
   "id": "26d03608",
   "metadata": {},
   "outputs": [
    {
     "name": "stdout",
     "output_type": "stream",
     "text": [
      "\u001b[1mFor the following tweets the name is wronge, but it is present in the tweet' text:\u001b[0m\n",
      "798628517273620480 None\n",
      "675706639471788032 a\n",
      "673636718965334016 a\n",
      "671743150407421952 a\n",
      "671147085991960577 a\n",
      "670427002554466305 a\n",
      "670361874861563904 a\n",
      "670303360680108032 a\n",
      "669923323644657664 a\n",
      "669564461267722241 a\n",
      "669363888236994561 None\n",
      "668955713004314625 a\n",
      "668636665813057536 an\n",
      "668507509523615744 a\n",
      "668268907921326080 None\n",
      "668171859951755264 a\n",
      "667861340749471744 a\n",
      "667773195014021121 a\n",
      "667538891197542400 a\n",
      "667509364010450944 None\n",
      "667470559035432960 a\n",
      "666983947667116034 a\n",
      "666781792255496192 a\n",
      "666701168228331520 a\n"
     ]
    }
   ],
   "source": [
    "print('\\033[1m'+'For the following tweets the name is wronge, but it is present in the tweet\\' text:'+'\\033[0m')\n",
    "\n",
    "for idx, val in zip(twitter_data['text'].index, twitter_data['text'].values):\n",
    "    if 'named' in val:\n",
    "        print(twitter_data.loc[idx,'tweet_id'] , twitter_data.loc[idx, 'name'])"
   ]
  },
  {
   "cell_type": "markdown",
   "id": "01575e29",
   "metadata": {},
   "source": [
    "##### To do:\n",
    "- extract some names from text where phrase 'named' is used"
   ]
  },
  {
   "cell_type": "code",
   "execution_count": 17,
   "id": "5ab6f8de",
   "metadata": {},
   "outputs": [
    {
     "data": {
      "text/plain": [
       "array(['P', 'T', 'A', 'D', 'F', 'N', 'J', 'Z', 'C', 'K', 'B', 'S', 'O',\n",
       "       'R', 'G', 's', 'M', 'W', 'L', 'E', 'Y', 'a', 'V', 'H', 'q', 'Q',\n",
       "       'I', 'n', 'o', 'i', 'm', 'v', 'j', 'h', 'g', 't', 'u', 'U', 'b',\n",
       "       'l'], dtype=object)"
      ]
     },
     "execution_count": 17,
     "metadata": {},
     "output_type": "execute_result"
    }
   ],
   "source": [
    "twitter_data['name'].apply(lambda x: x[0]).unique()"
   ]
  },
  {
   "cell_type": "markdown",
   "id": "5d2ad85c",
   "metadata": {},
   "source": [
    "##### To do:\n",
    "- make all names start with capital letter"
   ]
  },
  {
   "cell_type": "code",
   "execution_count": 18,
   "id": "b638f22f",
   "metadata": {},
   "outputs": [
    {
     "data": {
      "text/plain": [
       "None          745\n",
       "a              55\n",
       "Charlie        12\n",
       "Cooper         11\n",
       "Lucy           11\n",
       "             ... \n",
       "Dex             1\n",
       "Ace             1\n",
       "Tayzie          1\n",
       "Grizzie         1\n",
       "Christoper      1\n",
       "Name: name, Length: 957, dtype: int64"
      ]
     },
     "execution_count": 18,
     "metadata": {},
     "output_type": "execute_result"
    }
   ],
   "source": [
    "twitter_data['name'].value_counts()"
   ]
  },
  {
   "cell_type": "markdown",
   "id": "4a7b001c",
   "metadata": {},
   "source": [
    "##### To do:\n",
    "- replace 'a' and 'None' with np.nan()"
   ]
  },
  {
   "cell_type": "markdown",
   "id": "2ac60407",
   "metadata": {},
   "source": [
    "### 2) Assesment of twitter_api_data table"
   ]
  },
  {
   "cell_type": "code",
   "execution_count": 19,
   "id": "737888c9",
   "metadata": {},
   "outputs": [
    {
     "data": {
      "text/html": [
       "<div>\n",
       "<style scoped>\n",
       "    .dataframe tbody tr th:only-of-type {\n",
       "        vertical-align: middle;\n",
       "    }\n",
       "\n",
       "    .dataframe tbody tr th {\n",
       "        vertical-align: top;\n",
       "    }\n",
       "\n",
       "    .dataframe thead th {\n",
       "        text-align: right;\n",
       "    }\n",
       "</style>\n",
       "<table border=\"1\" class=\"dataframe\">\n",
       "  <thead>\n",
       "    <tr style=\"text-align: right;\">\n",
       "      <th></th>\n",
       "      <th>favorite_count</th>\n",
       "      <th>retweet_count</th>\n",
       "    </tr>\n",
       "  </thead>\n",
       "  <tbody>\n",
       "    <tr>\n",
       "      <th>892420643555336193</th>\n",
       "      <td>33702.0</td>\n",
       "      <td>6976.0</td>\n",
       "    </tr>\n",
       "    <tr>\n",
       "      <th>892177421306343426</th>\n",
       "      <td>29231.0</td>\n",
       "      <td>5278.0</td>\n",
       "    </tr>\n",
       "    <tr>\n",
       "      <th>891815181378084864</th>\n",
       "      <td>21975.0</td>\n",
       "      <td>3466.0</td>\n",
       "    </tr>\n",
       "    <tr>\n",
       "      <th>891689557279858688</th>\n",
       "      <td>36778.0</td>\n",
       "      <td>7190.0</td>\n",
       "    </tr>\n",
       "    <tr>\n",
       "      <th>891327558926688256</th>\n",
       "      <td>35164.0</td>\n",
       "      <td>7723.0</td>\n",
       "    </tr>\n",
       "  </tbody>\n",
       "</table>\n",
       "</div>"
      ],
      "text/plain": [
       "                    favorite_count  retweet_count\n",
       "892420643555336193         33702.0         6976.0\n",
       "892177421306343426         29231.0         5278.0\n",
       "891815181378084864         21975.0         3466.0\n",
       "891689557279858688         36778.0         7190.0\n",
       "891327558926688256         35164.0         7723.0"
      ]
     },
     "execution_count": 19,
     "metadata": {},
     "output_type": "execute_result"
    }
   ],
   "source": [
    "twitter_api_data.head()"
   ]
  },
  {
   "cell_type": "markdown",
   "id": "05de2815",
   "metadata": {},
   "source": [
    "##### To do:\n",
    "- Merge twitter_data and twitter_api_data"
   ]
  },
  {
   "cell_type": "code",
   "execution_count": 20,
   "id": "c4148773",
   "metadata": {},
   "outputs": [
    {
     "name": "stdout",
     "output_type": "stream",
     "text": [
      "<class 'pandas.core.frame.DataFrame'>\n",
      "Index: 2356 entries, 892420643555336193 to 666020888022790149\n",
      "Data columns (total 2 columns):\n",
      " #   Column          Non-Null Count  Dtype  \n",
      "---  ------          --------------  -----  \n",
      " 0   favorite_count  2327 non-null   float64\n",
      " 1   retweet_count   2327 non-null   float64\n",
      "dtypes: float64(2)\n",
      "memory usage: 55.2+ KB\n"
     ]
    }
   ],
   "source": [
    "twitter_api_data.info()"
   ]
  },
  {
   "cell_type": "markdown",
   "id": "fd0cc0d7",
   "metadata": {},
   "source": [
    "##### To do:\n",
    "- change favourite_count and retweet_count to int"
   ]
  },
  {
   "cell_type": "code",
   "execution_count": 21,
   "id": "31e8ab31",
   "metadata": {},
   "outputs": [
    {
     "data": {
      "text/plain": [
       "<AxesSubplot:>"
      ]
     },
     "execution_count": 21,
     "metadata": {},
     "output_type": "execute_result"
    },
    {
     "data": {
      "image/png": "[encoded data removed]",
      "text/plain": [
       "<Figure size 1152x576 with 2 Axes>"
      ]
     },
     "metadata": {},
     "output_type": "display_data"
    }
   ],
   "source": [
    "sns.heatmap(twitter_api_data.isna())"
   ]
  },
  {
   "cell_type": "markdown",
   "id": "a1e36585",
   "metadata": {},
   "source": [
    "##### To do:\n",
    "- delete tweets with favourite_count missing data as they were probably deleted irl"
   ]
  },
  {
   "cell_type": "markdown",
   "id": "88bd09a6",
   "metadata": {},
   "source": [
    "### 3) Assesment of twitter_image_predicitons table"
   ]
  },
  {
   "cell_type": "code",
   "execution_count": 22,
   "id": "a9d2aa61",
   "metadata": {},
   "outputs": [
    {
     "data": {
      "text/html": [
       "<div>\n",
       "<style scoped>\n",
       "    .dataframe tbody tr th:only-of-type {\n",
       "        vertical-align: middle;\n",
       "    }\n",
       "\n",
       "    .dataframe tbody tr th {\n",
       "        vertical-align: top;\n",
       "    }\n",
       "\n",
       "    .dataframe thead th {\n",
       "        text-align: right;\n",
       "    }\n",
       "</style>\n",
       "<table border=\"1\" class=\"dataframe\">\n",
       "  <thead>\n",
       "    <tr style=\"text-align: right;\">\n",
       "      <th></th>\n",
       "      <th>tweet_id</th>\n",
       "      <th>jpg_url</th>\n",
       "      <th>img_num</th>\n",
       "      <th>p1</th>\n",
       "      <th>p1_conf</th>\n",
       "      <th>p1_dog</th>\n",
       "      <th>p2</th>\n",
       "      <th>p2_conf</th>\n",
       "      <th>p2_dog</th>\n",
       "      <th>p3</th>\n",
       "      <th>p3_conf</th>\n",
       "      <th>p3_dog</th>\n",
       "    </tr>\n",
       "  </thead>\n",
       "  <tbody>\n",
       "    <tr>\n",
       "      <th>0</th>\n",
       "      <td>666020888022790149</td>\n",
       "      <td>https://pbs.twimg.com/media/CT4udn0WwAA0aMy.jpg</td>\n",
       "      <td>1</td>\n",
       "      <td>Welsh_springer_spaniel</td>\n",
       "      <td>0.465074</td>\n",
       "      <td>True</td>\n",
       "      <td>collie</td>\n",
       "      <td>0.156665</td>\n",
       "      <td>True</td>\n",
       "      <td>Shetland_sheepdog</td>\n",
       "      <td>0.061428</td>\n",
       "      <td>True</td>\n",
       "    </tr>\n",
       "    <tr>\n",
       "      <th>1</th>\n",
       "      <td>666029285002620928</td>\n",
       "      <td>https://pbs.twimg.com/media/CT42GRgUYAA5iDo.jpg</td>\n",
       "      <td>1</td>\n",
       "      <td>redbone</td>\n",
       "      <td>0.506826</td>\n",
       "      <td>True</td>\n",
       "      <td>miniature_pinscher</td>\n",
       "      <td>0.074192</td>\n",
       "      <td>True</td>\n",
       "      <td>Rhodesian_ridgeback</td>\n",
       "      <td>0.072010</td>\n",
       "      <td>True</td>\n",
       "    </tr>\n",
       "    <tr>\n",
       "      <th>2</th>\n",
       "      <td>666033412701032449</td>\n",
       "      <td>https://pbs.twimg.com/media/CT4521TWwAEvMyu.jpg</td>\n",
       "      <td>1</td>\n",
       "      <td>German_shepherd</td>\n",
       "      <td>0.596461</td>\n",
       "      <td>True</td>\n",
       "      <td>malinois</td>\n",
       "      <td>0.138584</td>\n",
       "      <td>True</td>\n",
       "      <td>bloodhound</td>\n",
       "      <td>0.116197</td>\n",
       "      <td>True</td>\n",
       "    </tr>\n",
       "    <tr>\n",
       "      <th>3</th>\n",
       "      <td>666044226329800704</td>\n",
       "      <td>https://pbs.twimg.com/media/CT5Dr8HUEAA-lEu.jpg</td>\n",
       "      <td>1</td>\n",
       "      <td>Rhodesian_ridgeback</td>\n",
       "      <td>0.408143</td>\n",
       "      <td>True</td>\n",
       "      <td>redbone</td>\n",
       "      <td>0.360687</td>\n",
       "      <td>True</td>\n",
       "      <td>miniature_pinscher</td>\n",
       "      <td>0.222752</td>\n",
       "      <td>True</td>\n",
       "    </tr>\n",
       "    <tr>\n",
       "      <th>4</th>\n",
       "      <td>666049248165822465</td>\n",
       "      <td>https://pbs.twimg.com/media/CT5IQmsXIAAKY4A.jpg</td>\n",
       "      <td>1</td>\n",
       "      <td>miniature_pinscher</td>\n",
       "      <td>0.560311</td>\n",
       "      <td>True</td>\n",
       "      <td>Rottweiler</td>\n",
       "      <td>0.243682</td>\n",
       "      <td>True</td>\n",
       "      <td>Doberman</td>\n",
       "      <td>0.154629</td>\n",
       "      <td>True</td>\n",
       "    </tr>\n",
       "  </tbody>\n",
       "</table>\n",
       "</div>"
      ],
      "text/plain": [
       "             tweet_id                                          jpg_url  \\\n",
       "0  666020888022790149  https://pbs.twimg.com/media/CT4udn0WwAA0aMy.jpg   \n",
       "1  666029285002620928  https://pbs.twimg.com/media/CT42GRgUYAA5iDo.jpg   \n",
       "2  666033412701032449  https://pbs.twimg.com/media/CT4521TWwAEvMyu.jpg   \n",
       "3  666044226329800704  https://pbs.twimg.com/media/CT5Dr8HUEAA-lEu.jpg   \n",
       "4  666049248165822465  https://pbs.twimg.com/media/CT5IQmsXIAAKY4A.jpg   \n",
       "\n",
       "   img_num                      p1   p1_conf  p1_dog                  p2  \\\n",
       "0        1  Welsh_springer_spaniel  0.465074    True              collie   \n",
       "1        1                 redbone  0.506826    True  miniature_pinscher   \n",
       "2        1         German_shepherd  0.596461    True            malinois   \n",
       "3        1     Rhodesian_ridgeback  0.408143    True             redbone   \n",
       "4        1      miniature_pinscher  0.560311    True          Rottweiler   \n",
       "\n",
       "    p2_conf  p2_dog                   p3   p3_conf  p3_dog  \n",
       "0  0.156665    True    Shetland_sheepdog  0.061428    True  \n",
       "1  0.074192    True  Rhodesian_ridgeback  0.072010    True  \n",
       "2  0.138584    True           bloodhound  0.116197    True  \n",
       "3  0.360687    True   miniature_pinscher  0.222752    True  \n",
       "4  0.243682    True             Doberman  0.154629    True  "
      ]
     },
     "execution_count": 22,
     "metadata": {},
     "output_type": "execute_result"
    }
   ],
   "source": [
    "twitter_image_predicitons.head()"
   ]
  },
  {
   "cell_type": "markdown",
   "id": "85022734",
   "metadata": {},
   "source": [
    "##### To do:\n",
    "- set_index to tweets_id\n",
    "- uniform the predictions by lowering all words"
   ]
  },
  {
   "cell_type": "markdown",
   "id": "cde68bbf",
   "metadata": {},
   "source": [
    "## Data Assesment Summary"
   ]
  },
  {
   "cell_type": "markdown",
   "id": "9633d030",
   "metadata": {},
   "source": [
    "### Tideness issues\n",
    "- Change 'doggo\tfloofer\tpupper\tpuppo' to dog categories in twitter_data\n",
    "- Merge twitter_data and twitter_api_data"
   ]
  },
  {
   "cell_type": "markdown",
   "id": "afed99bd",
   "metadata": {},
   "source": [
    "###  Data quality issues \n",
    "##### twitter_data table (merged with twitter_api_data)\n",
    "\n",
    "- Index as a unique identifier for the merged dataframe\n",
    "- Delete in_reply columns and retweeted columns since nearly no records\n",
    "- Change timestamps to datetime in twitter_data\n",
    "- Extract the sources from source column\n",
    "- Uniform the predictions by lowering all words\n",
    "- Standardize the numerators  and delete denominators as all will be 10 \n",
    "- Extract some names from text where phrase 'named' is used\n",
    "- Replace 'a' and 'None' with np.nan()\n",
    "- Make all names start with capital letter\n",
    "- Fill expanded_urls where value is missing\n",
    "- Set_index to tweets_id\n",
    "- Delete tweets with favourite_count missing data as they were probably deleted irl\n",
    "- Change favourite_count and retweet_count to int\n",
    "\n",
    "##### twitter_image_predicitons table\n",
    "- Uniform the predictions by lowering all words\n",
    "- Set_index to tweets_id\n"
   ]
  },
  {
   "cell_type": "markdown",
   "id": "875987bd",
   "metadata": {},
   "source": [
    "<h1> Cleaning Data"
   ]
  },
  {
   "cell_type": "markdown",
   "id": "da20b49c",
   "metadata": {},
   "source": [
    "### Copying the dataframes"
   ]
  },
  {
   "cell_type": "code",
   "execution_count": 23,
   "id": "4d2c01fd",
   "metadata": {},
   "outputs": [],
   "source": [
    "twitter_data_unclean = twitter_data.copy()\n",
    "twitter_image_predicitons_unclean = twitter_image_predicitons.copy()\n",
    "twitter_api_data_unclean = twitter_api_data.copy()"
   ]
  },
  {
   "cell_type": "markdown",
   "id": "b9999936",
   "metadata": {},
   "source": [
    "### Tideness issues first"
   ]
  },
  {
   "cell_type": "markdown",
   "id": "45bab8d8",
   "metadata": {},
   "source": [
    "#### twitter_data: Change 'doggo floofer pupper puppo' to dog categories in twitter_data"
   ]
  },
  {
   "cell_type": "markdown",
   "id": "6d6c3902",
   "metadata": {},
   "source": [
    "##### Define \n",
    "Extract the dog meme name from twitter_data['text'] and drop the leftover columns"
   ]
  },
  {
   "cell_type": "markdown",
   "id": "da34684a",
   "metadata": {},
   "source": [
    "##### Code"
   ]
  },
  {
   "cell_type": "code",
   "execution_count": 24,
   "id": "0dc4dcdb",
   "metadata": {},
   "outputs": [],
   "source": [
    "def extract_dogs_memes(tweet):\n",
    "    for dog in ['doggo', 'floofer', 'pupper', 'puppo']:\n",
    "        if dog in tweet.lower():\n",
    "            return dog\n",
    "        else:\n",
    "            return 'normal'\n",
    "        \n",
    "twitter_data['dog_stage'] = twitter_data['text'].apply(extract_dogs_memes)\n",
    "twitter_data.drop(['doggo', 'floofer', 'pupper', 'puppo'], axis=1, inplace=True)"
   ]
  },
  {
   "cell_type": "markdown",
   "id": "65530c79",
   "metadata": {},
   "source": [
    "##### Test"
   ]
  },
  {
   "cell_type": "code",
   "execution_count": 25,
   "id": "8edd66a8",
   "metadata": {},
   "outputs": [
    {
     "name": "stdout",
     "output_type": "stream",
     "text": [
      "<class 'pandas.core.frame.DataFrame'>\n",
      "RangeIndex: 2356 entries, 0 to 2355\n",
      "Data columns (total 14 columns):\n",
      " #   Column                      Non-Null Count  Dtype  \n",
      "---  ------                      --------------  -----  \n",
      " 0   tweet_id                    2356 non-null   int64  \n",
      " 1   in_reply_to_status_id       78 non-null     float64\n",
      " 2   in_reply_to_user_id         78 non-null     float64\n",
      " 3   timestamp                   2356 non-null   object \n",
      " 4   source                      2356 non-null   object \n",
      " 5   text                        2356 non-null   object \n",
      " 6   retweeted_status_id         181 non-null    float64\n",
      " 7   retweeted_status_user_id    181 non-null    float64\n",
      " 8   retweeted_status_timestamp  181 non-null    object \n",
      " 9   expanded_urls               2297 non-null   object \n",
      " 10  rating_numerator            2356 non-null   int64  \n",
      " 11  rating_denominator          2356 non-null   int64  \n",
      " 12  name                        2356 non-null   object \n",
      " 13  dog_stage                   2356 non-null   object \n",
      "dtypes: float64(4), int64(3), object(7)\n",
      "memory usage: 257.8+ KB\n"
     ]
    }
   ],
   "source": [
    "twitter_data.info()"
   ]
  },
  {
   "cell_type": "markdown",
   "id": "f307d402",
   "metadata": {},
   "source": [
    "#### twitter_data: Merge twitter_data and twitter_api_data"
   ]
  },
  {
   "cell_type": "markdown",
   "id": "fc8e287b",
   "metadata": {},
   "source": [
    "#####  Define\n",
    "Merge two dataframes using pd.merge, but before change index for integer using int() and list comprehensioN"
   ]
  },
  {
   "cell_type": "markdown",
   "id": "b106f70c",
   "metadata": {},
   "source": [
    "##### Code"
   ]
  },
  {
   "cell_type": "code",
   "execution_count": 26,
   "id": "7f166547",
   "metadata": {},
   "outputs": [],
   "source": [
    "twitter_api_data.index = [int(x) for x in twitter_api_data.index]"
   ]
  },
  {
   "cell_type": "code",
   "execution_count": 27,
   "id": "e1dbded0",
   "metadata": {},
   "outputs": [],
   "source": [
    "twitter_data = pd.merge(left=twitter_data, right=twitter_api_data, how='inner', left_on=twitter_data.tweet_id, right_on=twitter_api_data.index)"
   ]
  },
  {
   "cell_type": "code",
   "execution_count": 28,
   "id": "2c042db4",
   "metadata": {},
   "outputs": [],
   "source": [
    "twitter_data.drop('key_0', axis=1, inplace=True)\n"
   ]
  },
  {
   "cell_type": "markdown",
   "id": "b6e82fe1",
   "metadata": {},
   "source": [
    "#### twitter_data: Index as a unique identifier for the merged dataframe"
   ]
  },
  {
   "cell_type": "markdown",
   "id": "d4c579da",
   "metadata": {},
   "source": [
    "##### Define\n",
    "Use set_indx()"
   ]
  },
  {
   "cell_type": "markdown",
   "id": "d928bc34",
   "metadata": {},
   "source": [
    "##### Code"
   ]
  },
  {
   "cell_type": "code",
   "execution_count": 29,
   "id": "ccc55119",
   "metadata": {},
   "outputs": [],
   "source": [
    "twitter_data.set_index('tweet_id', inplace=True)"
   ]
  },
  {
   "cell_type": "markdown",
   "id": "daf61845",
   "metadata": {},
   "source": [
    "##### Test"
   ]
  },
  {
   "cell_type": "code",
   "execution_count": 30,
   "id": "63f219ae",
   "metadata": {},
   "outputs": [
    {
     "data": {
      "text/html": [
       "<div>\n",
       "<style scoped>\n",
       "    .dataframe tbody tr th:only-of-type {\n",
       "        vertical-align: middle;\n",
       "    }\n",
       "\n",
       "    .dataframe tbody tr th {\n",
       "        vertical-align: top;\n",
       "    }\n",
       "\n",
       "    .dataframe thead th {\n",
       "        text-align: right;\n",
       "    }\n",
       "</style>\n",
       "<table border=\"1\" class=\"dataframe\">\n",
       "  <thead>\n",
       "    <tr style=\"text-align: right;\">\n",
       "      <th></th>\n",
       "      <th>in_reply_to_status_id</th>\n",
       "      <th>in_reply_to_user_id</th>\n",
       "      <th>timestamp</th>\n",
       "      <th>source</th>\n",
       "      <th>text</th>\n",
       "      <th>retweeted_status_id</th>\n",
       "      <th>retweeted_status_user_id</th>\n",
       "      <th>retweeted_status_timestamp</th>\n",
       "      <th>expanded_urls</th>\n",
       "      <th>rating_numerator</th>\n",
       "      <th>rating_denominator</th>\n",
       "      <th>name</th>\n",
       "      <th>dog_stage</th>\n",
       "      <th>favorite_count</th>\n",
       "      <th>retweet_count</th>\n",
       "    </tr>\n",
       "    <tr>\n",
       "      <th>tweet_id</th>\n",
       "      <th></th>\n",
       "      <th></th>\n",
       "      <th></th>\n",
       "      <th></th>\n",
       "      <th></th>\n",
       "      <th></th>\n",
       "      <th></th>\n",
       "      <th></th>\n",
       "      <th></th>\n",
       "      <th></th>\n",
       "      <th></th>\n",
       "      <th></th>\n",
       "      <th></th>\n",
       "      <th></th>\n",
       "      <th></th>\n",
       "    </tr>\n",
       "  </thead>\n",
       "  <tbody>\n",
       "    <tr>\n",
       "      <th>892420643555336193</th>\n",
       "      <td>NaN</td>\n",
       "      <td>NaN</td>\n",
       "      <td>2017-08-01 16:23:56 +0000</td>\n",
       "      <td>&lt;a href=\"http://twitter.com/download/iphone\" r...</td>\n",
       "      <td>This is Phineas. He's a mystical boy. Only eve...</td>\n",
       "      <td>NaN</td>\n",
       "      <td>NaN</td>\n",
       "      <td>NaN</td>\n",
       "      <td>https://twitter.com/dog_rates/status/892420643...</td>\n",
       "      <td>13</td>\n",
       "      <td>10</td>\n",
       "      <td>Phineas</td>\n",
       "      <td>normal</td>\n",
       "      <td>33702.0</td>\n",
       "      <td>6976.0</td>\n",
       "    </tr>\n",
       "  </tbody>\n",
       "</table>\n",
       "</div>"
      ],
      "text/plain": [
       "                    in_reply_to_status_id  in_reply_to_user_id  \\\n",
       "tweet_id                                                         \n",
       "892420643555336193                    NaN                  NaN   \n",
       "\n",
       "                                    timestamp  \\\n",
       "tweet_id                                        \n",
       "892420643555336193  2017-08-01 16:23:56 +0000   \n",
       "\n",
       "                                                               source  \\\n",
       "tweet_id                                                                \n",
       "892420643555336193  <a href=\"http://twitter.com/download/iphone\" r...   \n",
       "\n",
       "                                                                 text  \\\n",
       "tweet_id                                                                \n",
       "892420643555336193  This is Phineas. He's a mystical boy. Only eve...   \n",
       "\n",
       "                    retweeted_status_id  retweeted_status_user_id  \\\n",
       "tweet_id                                                            \n",
       "892420643555336193                  NaN                       NaN   \n",
       "\n",
       "                   retweeted_status_timestamp  \\\n",
       "tweet_id                                        \n",
       "892420643555336193                        NaN   \n",
       "\n",
       "                                                        expanded_urls  \\\n",
       "tweet_id                                                                \n",
       "892420643555336193  https://twitter.com/dog_rates/status/892420643...   \n",
       "\n",
       "                    rating_numerator  rating_denominator     name dog_stage  \\\n",
       "tweet_id                                                                      \n",
       "892420643555336193                13                  10  Phineas    normal   \n",
       "\n",
       "                    favorite_count  retweet_count  \n",
       "tweet_id                                           \n",
       "892420643555336193         33702.0         6976.0  "
      ]
     },
     "execution_count": 30,
     "metadata": {},
     "output_type": "execute_result"
    }
   ],
   "source": [
    "twitter_data.head(1)"
   ]
  },
  {
   "cell_type": "markdown",
   "id": "871620af",
   "metadata": {},
   "source": [
    "#### twitter_data: Change timestamps to datetime in twitter_data"
   ]
  },
  {
   "cell_type": "markdown",
   "id": "72468ddc",
   "metadata": {},
   "source": [
    "##### Define\n",
    "Use pd.to_datetime()"
   ]
  },
  {
   "cell_type": "markdown",
   "id": "f61dac0a",
   "metadata": {},
   "source": [
    "##### Code"
   ]
  },
  {
   "cell_type": "code",
   "execution_count": 31,
   "id": "f1ad81e1",
   "metadata": {},
   "outputs": [],
   "source": [
    "# changing the data fromat \n",
    "twitter_data['timestamp'] = pd.to_datetime(twitter_data['timestamp'])"
   ]
  },
  {
   "cell_type": "markdown",
   "id": "c7065617",
   "metadata": {},
   "source": [
    "##### Test"
   ]
  },
  {
   "cell_type": "code",
   "execution_count": 32,
   "id": "021dd1f8",
   "metadata": {},
   "outputs": [
    {
     "name": "stdout",
     "output_type": "stream",
     "text": [
      "<class 'pandas.core.frame.DataFrame'>\n",
      "Int64Index: 2356 entries, 892420643555336193 to 666020888022790149\n",
      "Data columns (total 15 columns):\n",
      " #   Column                      Non-Null Count  Dtype              \n",
      "---  ------                      --------------  -----              \n",
      " 0   in_reply_to_status_id       78 non-null     float64            \n",
      " 1   in_reply_to_user_id         78 non-null     float64            \n",
      " 2   timestamp                   2356 non-null   datetime64[ns, UTC]\n",
      " 3   source                      2356 non-null   object             \n",
      " 4   text                        2356 non-null   object             \n",
      " 5   retweeted_status_id         181 non-null    float64            \n",
      " 6   retweeted_status_user_id    181 non-null    float64            \n",
      " 7   retweeted_status_timestamp  181 non-null    object             \n",
      " 8   expanded_urls               2297 non-null   object             \n",
      " 9   rating_numerator            2356 non-null   int64              \n",
      " 10  rating_denominator          2356 non-null   int64              \n",
      " 11  name                        2356 non-null   object             \n",
      " 12  dog_stage                   2356 non-null   object             \n",
      " 13  favorite_count              2327 non-null   float64            \n",
      " 14  retweet_count               2327 non-null   float64            \n",
      "dtypes: datetime64[ns, UTC](1), float64(6), int64(2), object(6)\n",
      "memory usage: 294.5+ KB\n"
     ]
    }
   ],
   "source": [
    "twitter_data.info()"
   ]
  },
  {
   "cell_type": "markdown",
   "id": "5c69b772",
   "metadata": {},
   "source": [
    "#### twitter_data:  Extract the sources from source column"
   ]
  },
  {
   "cell_type": "markdown",
   "id": "98bb245c",
   "metadata": {},
   "source": [
    "##### Define\n",
    "Use Regex library with str.extract method"
   ]
  },
  {
   "cell_type": "code",
   "execution_count": 33,
   "id": "c12ae010",
   "metadata": {},
   "outputs": [],
   "source": [
    "# extracting source\n",
    "twitter_data['source'] = twitter_data['source'].str.extract('(>[a-zA-Z -]+<)')[0]\n",
    "twitter_data['source'] = twitter_data['source'].apply(lambda x: x[1:-1])"
   ]
  },
  {
   "cell_type": "markdown",
   "id": "0f343e3e",
   "metadata": {},
   "source": [
    "#### Test"
   ]
  },
  {
   "cell_type": "code",
   "execution_count": 34,
   "id": "3b7f59d8",
   "metadata": {},
   "outputs": [
    {
     "data": {
      "text/plain": [
       "array(['Twitter for iPhone', 'Twitter Web Client', 'Vine - Make a Scene',\n",
       "       'TweetDeck'], dtype=object)"
      ]
     },
     "execution_count": 34,
     "metadata": {},
     "output_type": "execute_result"
    }
   ],
   "source": [
    "twitter_data['source'].unique()"
   ]
  },
  {
   "cell_type": "markdown",
   "id": "f450cfd6",
   "metadata": {},
   "source": [
    "#### twitter_image_predicitons: uniform the predictions by lowering all words"
   ]
  },
  {
   "cell_type": "markdown",
   "id": "5acf6737",
   "metadata": {},
   "source": [
    "##### Define\n",
    "Use str.lower()"
   ]
  },
  {
   "cell_type": "markdown",
   "id": "f3550a2a",
   "metadata": {},
   "source": [
    "##### Code"
   ]
  },
  {
   "cell_type": "code",
   "execution_count": 35,
   "id": "ed621162",
   "metadata": {},
   "outputs": [],
   "source": [
    "# uniform the p1,p2,p3 data to be Capitalized\n",
    "twitter_image_predicitons['p1'] = twitter_image_predicitons['p1'].str.lower()\n",
    "twitter_image_predicitons['p2'] = twitter_image_predicitons['p2'].str.lower()\n",
    "twitter_image_predicitons['p3'] = twitter_image_predicitons['p3'].str.lower()"
   ]
  },
  {
   "cell_type": "markdown",
   "id": "3dde9b4b",
   "metadata": {},
   "source": [
    "#### Test"
   ]
  },
  {
   "cell_type": "code",
   "execution_count": 36,
   "id": "89a80e70",
   "metadata": {},
   "outputs": [
    {
     "data": {
      "text/plain": [
       "['welsh_springer_spaniel',\n",
       " 'redbone',\n",
       " 'german_shepherd',\n",
       " 'rhodesian_ridgeback',\n",
       " 'miniature_pinscher',\n",
       " 'bernese_mountain_dog',\n",
       " 'box_turtle',\n",
       " 'chow',\n",
       " 'shopping_cart',\n",
       " 'miniature_poodle',\n",
       " 'golden_retriever',\n",
       " 'gordon_setter',\n",
       " 'walker_hound',\n",
       " 'pug',\n",
       " 'bloodhound',\n",
       " 'lhasa',\n",
       " 'english_setter',\n",
       " 'hen',\n",
       " 'desktop_computer',\n",
       " 'italian_greyhound',\n",
       " 'maltese_dog',\n",
       " 'three-toed_sloth',\n",
       " 'ox',\n",
       " 'malamute',\n",
       " 'guinea_pig',\n",
       " 'soft-coated_wheaten_terrier',\n",
       " 'chihuahua',\n",
       " 'black-and-tan_coonhound',\n",
       " 'coho',\n",
       " 'toy_terrier',\n",
       " 'blenheim_spaniel',\n",
       " 'pembroke',\n",
       " 'llama',\n",
       " 'chesapeake_bay_retriever',\n",
       " 'curly-coated_retriever',\n",
       " 'dalmatian',\n",
       " 'ibizan_hound',\n",
       " 'border_collie',\n",
       " 'labrador_retriever',\n",
       " 'seat_belt',\n",
       " 'snail',\n",
       " 'miniature_schnauzer',\n",
       " 'airedale',\n",
       " 'triceratops',\n",
       " 'swab',\n",
       " 'hay',\n",
       " 'hyena',\n",
       " 'jigsaw_puzzle',\n",
       " 'west_highland_white_terrier',\n",
       " 'toy_poodle',\n",
       " 'giant_schnauzer',\n",
       " 'vizsla',\n",
       " 'vacuum',\n",
       " 'rottweiler',\n",
       " 'siberian_husky',\n",
       " 'teddy',\n",
       " 'papillon',\n",
       " 'saint_bernard',\n",
       " 'porcupine',\n",
       " 'goose',\n",
       " 'tibetan_terrier',\n",
       " 'borzoi',\n",
       " 'beagle',\n",
       " 'hare',\n",
       " 'yorkshire_terrier',\n",
       " 'pomeranian',\n",
       " 'electric_fan',\n",
       " 'web_site',\n",
       " 'ibex',\n",
       " 'kuvasz',\n",
       " 'fire_engine',\n",
       " 'lorikeet',\n",
       " 'flat-coated_retriever',\n",
       " 'toyshop',\n",
       " 'common_iguana',\n",
       " 'norwegian_elkhound',\n",
       " 'frilled_lizard',\n",
       " 'leatherback_turtle',\n",
       " 'hamster',\n",
       " 'angora',\n",
       " 'arctic_fox',\n",
       " 'trombone',\n",
       " 'canoe',\n",
       " 'king_penguin',\n",
       " 'shopping_basket',\n",
       " 'standard_poodle',\n",
       " 'staffordshire_bullterrier',\n",
       " 'basenji',\n",
       " 'lakeland_terrier',\n",
       " 'american_staffordshire_terrier',\n",
       " 'bearskin',\n",
       " 'shih-tzu',\n",
       " 'bustard',\n",
       " 'crash_helmet',\n",
       " 'french_bulldog',\n",
       " 'pekinese',\n",
       " 'komondor',\n",
       " 'ski_mask',\n",
       " 'malinois',\n",
       " 'kelpie',\n",
       " 'brittany_spaniel',\n",
       " 'cocker_spaniel',\n",
       " 'shower_curtain',\n",
       " 'basset',\n",
       " 'jellyfish',\n",
       " 'doormat',\n",
       " 'arabian_camel',\n",
       " 'lynx',\n",
       " 'hog',\n",
       " 'comic_book',\n",
       " 'minivan',\n",
       " 'seashore',\n",
       " 'cuirass',\n",
       " 'brabancon_griffon',\n",
       " 'candle',\n",
       " 'eskimo_dog',\n",
       " 'weasel',\n",
       " 'christmas_stocking',\n",
       " 'washbasin',\n",
       " 'car_mirror',\n",
       " 'piggy_bank',\n",
       " 'pot',\n",
       " 'boathouse',\n",
       " 'mud_turtle',\n",
       " 'german_short-haired_pointer',\n",
       " 'shetland_sheepdog',\n",
       " 'irish_terrier',\n",
       " 'cairn',\n",
       " 'platypus',\n",
       " 'english_springer',\n",
       " 'whippet',\n",
       " 'ping-pong_ball',\n",
       " 'sea_urchin',\n",
       " 'bow_tie',\n",
       " 'window_shade',\n",
       " \"jack-o'-lantern\",\n",
       " 'sorrel',\n",
       " 'sussex_spaniel',\n",
       " 'peacock',\n",
       " 'axolotl',\n",
       " 'wool',\n",
       " 'banana',\n",
       " 'dandie_dinmont',\n",
       " 'norwich_terrier',\n",
       " 'wood_rabbit',\n",
       " 'dhole',\n",
       " 'keeshond',\n",
       " 'norfolk_terrier',\n",
       " 'lacewing',\n",
       " 'dingo',\n",
       " 'brown_bear',\n",
       " 'old_english_sheepdog',\n",
       " 'scorpion',\n",
       " 'flamingo',\n",
       " 'microphone',\n",
       " 'samoyed',\n",
       " 'pitcher',\n",
       " 'african_hunting_dog',\n",
       " 'refrigerator',\n",
       " 'picket_fence',\n",
       " 'tub',\n",
       " 'zebra',\n",
       " 'hermit_crab',\n",
       " 'swing',\n",
       " 'doberman',\n",
       " 'park_bench',\n",
       " 'feather_boa',\n",
       " 'loafer',\n",
       " 'stone_wall',\n",
       " 'ice_bear',\n",
       " 'prayer_rug',\n",
       " 'chimpanzee',\n",
       " 'china_cabinet',\n",
       " 'bee_eater',\n",
       " 'tennis_ball',\n",
       " 'carton',\n",
       " 'killer_whale',\n",
       " 'ostrich',\n",
       " 'terrapin',\n",
       " 'siamese_cat',\n",
       " 'gondola',\n",
       " 'great_pyrenees',\n",
       " 'microwave',\n",
       " 'starfish',\n",
       " 'sandbar',\n",
       " 'tusker',\n",
       " 'motor_scooter',\n",
       " 'ram',\n",
       " 'leaf_beetle',\n",
       " 'wombat',\n",
       " 'schipperke',\n",
       " 'newfoundland',\n",
       " 'bull_mastiff',\n",
       " 'water_bottle',\n",
       " 'suit',\n",
       " 'toilet_seat',\n",
       " 'collie',\n",
       " 'robin',\n",
       " 'cardigan',\n",
       " 'greater_swiss_mountain_dog',\n",
       " 'slug',\n",
       " 'toilet_tissue',\n",
       " 'acorn_squash',\n",
       " 'soccer_ball',\n",
       " 'african_crocodile',\n",
       " 'tick',\n",
       " 'ocarina',\n",
       " 'boxer',\n",
       " 'street_sign',\n",
       " 'bow',\n",
       " 'stove',\n",
       " 'paper_towel',\n",
       " 'upright',\n",
       " 'dough',\n",
       " 'scottish_deerhound',\n",
       " 'bath_towel',\n",
       " 'standard_schnauzer',\n",
       " 'walking_stick',\n",
       " 'irish_water_spaniel',\n",
       " 'bubble',\n",
       " 'boston_bull',\n",
       " 'book_jacket',\n",
       " 'rain_barrel',\n",
       " 'black-footed_ferret',\n",
       " 'guenon',\n",
       " 'japanese_spaniel',\n",
       " 'water_buffalo',\n",
       " 'patio',\n",
       " 'cowboy_hat',\n",
       " 'dogsled',\n",
       " 'maze',\n",
       " 'harp',\n",
       " 'panpipe',\n",
       " 'cash_machine',\n",
       " 'mailbox',\n",
       " 'wallaby',\n",
       " 'entlebucher',\n",
       " 'earthstar',\n",
       " 'pillow',\n",
       " 'bluetick',\n",
       " 'space_heater',\n",
       " 'carousel',\n",
       " 'irish_setter',\n",
       " 'birdhouse',\n",
       " 'snorkel',\n",
       " 'bald_eagle',\n",
       " 'koala',\n",
       " 'leonberg',\n",
       " 'cheetah',\n",
       " 'minibus',\n",
       " 'weimaraner',\n",
       " 'clog',\n",
       " 'dishwasher',\n",
       " 'white_wolf',\n",
       " 'sliding_door',\n",
       " 'damselfly',\n",
       " 'great_dane',\n",
       " 'tibetan_mastiff',\n",
       " 'cheeseburger',\n",
       " 'fiddler_crab',\n",
       " 'bannister',\n",
       " 'crane',\n",
       " 'scotch_terrier',\n",
       " 'snowmobile',\n",
       " 'badger',\n",
       " 'bighorn',\n",
       " 'geyser',\n",
       " 'barrow',\n",
       " 'bison',\n",
       " 'mexican_hairless',\n",
       " 'ice_lolly',\n",
       " 'sea_lion',\n",
       " 'dining_table',\n",
       " 'groenendael',\n",
       " 'australian_terrier',\n",
       " 'beaver',\n",
       " 'briard',\n",
       " 'appenzeller',\n",
       " 'grey_fox',\n",
       " 'mousetrap',\n",
       " 'hippopotamus',\n",
       " 'border_terrier',\n",
       " 'hummingbird',\n",
       " 'tailed_frog',\n",
       " 'otter',\n",
       " 'egyptian_cat',\n",
       " 'four-poster',\n",
       " 'wild_boar',\n",
       " 'bathtub',\n",
       " 'agama',\n",
       " 'muzzle',\n",
       " 'hotdog',\n",
       " 'bib',\n",
       " 'espresso',\n",
       " 'timber_wolf',\n",
       " 'meerkat',\n",
       " 'nail',\n",
       " 'hammer',\n",
       " 'home_theater',\n",
       " 'alp',\n",
       " 'bonnet',\n",
       " 'handkerchief',\n",
       " 'hand_blower',\n",
       " 'polecat',\n",
       " 'lakeside',\n",
       " 'studio_couch',\n",
       " 'cup',\n",
       " 'cliff',\n",
       " 'bedlington_terrier',\n",
       " 'lawn_mower',\n",
       " 'balloon',\n",
       " 'sunglasses',\n",
       " 'rapeseed',\n",
       " 'traffic_light',\n",
       " 'coil',\n",
       " 'binoculars',\n",
       " 'paddle',\n",
       " 'tiger_shark',\n",
       " 'sulphur-crested_cockatoo',\n",
       " 'wire-haired_fox_terrier',\n",
       " 'saluki',\n",
       " 'american_black_bear',\n",
       " 'rotisserie',\n",
       " 'conch',\n",
       " 'skunk',\n",
       " 'bookshop',\n",
       " 'radio_telescope',\n",
       " 'cougar',\n",
       " 'african_grey',\n",
       " 'coral_reef',\n",
       " 'lion',\n",
       " 'maillot',\n",
       " 'madagascar_cat',\n",
       " 'tabby',\n",
       " 'silky_terrier',\n",
       " 'giant_panda',\n",
       " 'long-horned_beetle',\n",
       " 'afghan_hound',\n",
       " 'clumber',\n",
       " 'sundial',\n",
       " 'padlock',\n",
       " 'pool_table',\n",
       " 'quilt',\n",
       " 'beach_wagon',\n",
       " 'remote_control',\n",
       " 'bakery',\n",
       " 'pedestal',\n",
       " 'gas_pump',\n",
       " 'bookcase',\n",
       " 'shield',\n",
       " 'loupe',\n",
       " 'restaurant',\n",
       " 'prison',\n",
       " 'school_bus',\n",
       " 'cowboy_boot',\n",
       " 'jersey',\n",
       " 'wooden_spoon',\n",
       " 'leopard',\n",
       " 'mortarboard',\n",
       " 'teapot',\n",
       " 'military_uniform',\n",
       " 'washer',\n",
       " 'coffee_mug',\n",
       " 'fountain',\n",
       " 'pencil_box',\n",
       " 'barbell',\n",
       " 'grille',\n",
       " 'revolver',\n",
       " 'envelope',\n",
       " 'syringe',\n",
       " 'marmot',\n",
       " 'pole',\n",
       " 'laptop',\n",
       " 'basketball',\n",
       " 'tricycle',\n",
       " 'convertible',\n",
       " 'limousine',\n",
       " 'orange']"
      ]
     },
     "execution_count": 36,
     "metadata": {},
     "output_type": "execute_result"
    }
   ],
   "source": [
    "list(twitter_image_predicitons['p1'].unique())"
   ]
  },
  {
   "cell_type": "markdown",
   "id": "ac0052e5",
   "metadata": {},
   "source": [
    "#### twitter_data:standardize the numerators  and delete denominators as all will be 10 "
   ]
  },
  {
   "cell_type": "markdown",
   "id": "43e1dadf",
   "metadata": {},
   "source": [
    "##### Define\n",
    "Create proportion between rating numerator and rating denominator (divided by 10 - which will standardize the denominators and numerators). Then lets decrease all numerators over 10 to 10 to have all numerators between 0-10 and all denominators as 10. We can drop denominators"
   ]
  },
  {
   "cell_type": "code",
   "execution_count": 37,
   "id": "81fad38a",
   "metadata": {},
   "outputs": [],
   "source": [
    "# standardizing the rating numerators and deleting the column rating denominator as all ratings are now from 0-10\n",
    "twitter_data['rating_numerator'] = np.int64(np.round(twitter_data['rating_numerator']/(twitter_data['rating_denominator']/10)))\n",
    "twitter_data.drop('rating_denominator', axis=1, inplace=True)\n",
    "\n",
    "def standardize_rating(num):\n",
    "    if num > 10:\n",
    "        num = 10\n",
    "    return num\n",
    "\n",
    "twitter_data['rating_numerator'] = twitter_data['rating_numerator'].apply(standardize_rating)"
   ]
  },
  {
   "cell_type": "markdown",
   "id": "e1c0dfc0",
   "metadata": {},
   "source": [
    "##### Test denominator"
   ]
  },
  {
   "cell_type": "code",
   "execution_count": 38,
   "id": "3dcaa525",
   "metadata": {},
   "outputs": [],
   "source": [
    "assert 'rating_denominator' not in twitter_data.columns"
   ]
  },
  {
   "cell_type": "markdown",
   "id": "0ba45b0e",
   "metadata": {},
   "source": [
    "##### Test numerators"
   ]
  },
  {
   "cell_type": "code",
   "execution_count": 39,
   "id": "77348bf0",
   "metadata": {},
   "outputs": [
    {
     "data": {
      "text/html": [
       "<div>\n",
       "<style scoped>\n",
       "    .dataframe tbody tr th:only-of-type {\n",
       "        vertical-align: middle;\n",
       "    }\n",
       "\n",
       "    .dataframe tbody tr th {\n",
       "        vertical-align: top;\n",
       "    }\n",
       "\n",
       "    .dataframe thead th {\n",
       "        text-align: right;\n",
       "    }\n",
       "</style>\n",
       "<table border=\"1\" class=\"dataframe\">\n",
       "  <thead>\n",
       "    <tr style=\"text-align: right;\">\n",
       "      <th></th>\n",
       "      <th>in_reply_to_status_id</th>\n",
       "      <th>in_reply_to_user_id</th>\n",
       "      <th>timestamp</th>\n",
       "      <th>source</th>\n",
       "      <th>text</th>\n",
       "      <th>retweeted_status_id</th>\n",
       "      <th>retweeted_status_user_id</th>\n",
       "      <th>retweeted_status_timestamp</th>\n",
       "      <th>expanded_urls</th>\n",
       "      <th>rating_numerator</th>\n",
       "      <th>name</th>\n",
       "      <th>dog_stage</th>\n",
       "      <th>favorite_count</th>\n",
       "      <th>retweet_count</th>\n",
       "    </tr>\n",
       "    <tr>\n",
       "      <th>tweet_id</th>\n",
       "      <th></th>\n",
       "      <th></th>\n",
       "      <th></th>\n",
       "      <th></th>\n",
       "      <th></th>\n",
       "      <th></th>\n",
       "      <th></th>\n",
       "      <th></th>\n",
       "      <th></th>\n",
       "      <th></th>\n",
       "      <th></th>\n",
       "      <th></th>\n",
       "      <th></th>\n",
       "      <th></th>\n",
       "    </tr>\n",
       "  </thead>\n",
       "  <tbody>\n",
       "  </tbody>\n",
       "</table>\n",
       "</div>"
      ],
      "text/plain": [
       "Empty DataFrame\n",
       "Columns: [in_reply_to_status_id, in_reply_to_user_id, timestamp, source, text, retweeted_status_id, retweeted_status_user_id, retweeted_status_timestamp, expanded_urls, rating_numerator, name, dog_stage, favorite_count, retweet_count]\n",
       "Index: []"
      ]
     },
     "execution_count": 39,
     "metadata": {},
     "output_type": "execute_result"
    }
   ],
   "source": [
    "twitter_data[twitter_data['rating_numerator']>10]"
   ]
  },
  {
   "cell_type": "markdown",
   "id": "796a4b5d",
   "metadata": {},
   "source": [
    "#### twitter_data: delete in_reply columns and retweeted columns since nearly no records"
   ]
  },
  {
   "cell_type": "markdown",
   "id": "cd5e8b20",
   "metadata": {},
   "source": [
    "##### Define\n",
    "Use drop(axis=1)"
   ]
  },
  {
   "cell_type": "markdown",
   "id": "75b503e6",
   "metadata": {},
   "source": [
    "##### Code"
   ]
  },
  {
   "cell_type": "code",
   "execution_count": 40,
   "id": "b952a0c4",
   "metadata": {},
   "outputs": [],
   "source": [
    "twitter_data.drop(labels=['in_reply_to_status_id','in_reply_to_user_id', 'retweeted_status_id', 'retweeted_status_user_id', 'retweeted_status_timestamp'], axis=1, inplace=True)"
   ]
  },
  {
   "cell_type": "markdown",
   "id": "f120cf7f",
   "metadata": {},
   "source": [
    "##### Test"
   ]
  },
  {
   "cell_type": "code",
   "execution_count": 41,
   "id": "766890a0",
   "metadata": {},
   "outputs": [
    {
     "name": "stdout",
     "output_type": "stream",
     "text": [
      "<class 'pandas.core.frame.DataFrame'>\n",
      "Int64Index: 2356 entries, 892420643555336193 to 666020888022790149\n",
      "Data columns (total 9 columns):\n",
      " #   Column            Non-Null Count  Dtype              \n",
      "---  ------            --------------  -----              \n",
      " 0   timestamp         2356 non-null   datetime64[ns, UTC]\n",
      " 1   source            2356 non-null   object             \n",
      " 2   text              2356 non-null   object             \n",
      " 3   expanded_urls     2297 non-null   object             \n",
      " 4   rating_numerator  2356 non-null   int64              \n",
      " 5   name              2356 non-null   object             \n",
      " 6   dog_stage         2356 non-null   object             \n",
      " 7   favorite_count    2327 non-null   float64            \n",
      " 8   retweet_count     2327 non-null   float64            \n",
      "dtypes: datetime64[ns, UTC](1), float64(2), int64(1), object(5)\n",
      "memory usage: 184.1+ KB\n"
     ]
    }
   ],
   "source": [
    "twitter_data.info()"
   ]
  },
  {
   "cell_type": "markdown",
   "id": "903ce2b4",
   "metadata": {},
   "source": [
    "#### twitter_data: extract some names from text where phrase 'named' is used"
   ]
  },
  {
   "cell_type": "markdown",
   "id": "a3739e24",
   "metadata": {},
   "source": [
    "##### Define\n",
    "\n",
    "1) find all text with named in it\n",
    "\n",
    "2) Split them using split() or re.split()\n",
    "\n",
    "3) create a key : value map\n",
    "\n",
    "4) use map to define the new value"
   ]
  },
  {
   "cell_type": "markdown",
   "id": "d5c6ab62",
   "metadata": {},
   "source": [
    "##### Code"
   ]
  },
  {
   "cell_type": "code",
   "execution_count": 42,
   "id": "4b29be2d",
   "metadata": {},
   "outputs": [],
   "source": [
    "mapper = {}\n",
    "for idx, x in zip(twitter_data.index, twitter_data['text'].values):\n",
    "    if 'named' in x:\n",
    "        d = x.split('named')[1]\n",
    "        z = re.split('(\\.|\\()', d)[0]\n",
    "        mapper[idx] = z\n",
    "\n",
    "for key in mapper.keys():\n",
    "    twitter_data.loc[key, 'name'] = mapper[key]"
   ]
  },
  {
   "cell_type": "markdown",
   "id": "8a5e90b8",
   "metadata": {},
   "source": [
    "##### Test"
   ]
  },
  {
   "cell_type": "code",
   "execution_count": 43,
   "id": "2a3bc741",
   "metadata": {},
   "outputs": [
    {
     "name": "stdout",
     "output_type": "stream",
     "text": [
      " Tickles\n",
      " Wylie\n",
      " Kip\n",
      " Jacob \n",
      " Rufus\n",
      " Spork\n",
      " Cherokee\n",
      " Hemry\n",
      " Alphred\n",
      " Alfredo\n",
      " Zeus\n",
      " Leroi\n",
      " Berta\n",
      " Chuk\n",
      " Guss\n",
      " Alfonso\n",
      " Cheryl\n",
      " Jessiga\n",
      " Klint\n",
      " Tickles\n",
      " Kohl\n",
      " Pepe\n",
      " Octaviath\n",
      " Johm\n"
     ]
    }
   ],
   "source": [
    "for key in mapper.keys():\n",
    "    print(twitter_data.loc[key, 'name'])"
   ]
  },
  {
   "cell_type": "markdown",
   "id": "54958e16",
   "metadata": {},
   "source": [
    "#### twitter_data: replace 'a' and 'None' with np.nan()"
   ]
  },
  {
   "cell_type": "markdown",
   "id": "7db973fb",
   "metadata": {},
   "source": [
    "##### Define\n",
    "define a function and use apply"
   ]
  },
  {
   "cell_type": "markdown",
   "id": "f495728e",
   "metadata": {},
   "source": [
    "##### Code"
   ]
  },
  {
   "cell_type": "code",
   "execution_count": 44,
   "id": "837fe47a",
   "metadata": {},
   "outputs": [],
   "source": [
    "def replace_none_a(name):\n",
    "    if name=='a' or name=='None':\n",
    "        name = np.nan\n",
    "        return name\n",
    "    else:\n",
    "        return name\n",
    "        \n",
    "twitter_data['name'] = twitter_data['name'].apply(replace_none_a)"
   ]
  },
  {
   "cell_type": "markdown",
   "id": "febdc811",
   "metadata": {},
   "source": [
    "##### Test"
   ]
  },
  {
   "cell_type": "code",
   "execution_count": 45,
   "id": "a17e0f1d",
   "metadata": {},
   "outputs": [
    {
     "data": {
      "text/plain": [
       "Charlie       12\n",
       "Cooper        11\n",
       "Lucy          11\n",
       "Oliver        11\n",
       "Tucker        10\n",
       "              ..\n",
       "Lilah          1\n",
       "Spanky         1\n",
       "Jameson        1\n",
       "Blu            1\n",
       "Christoper     1\n",
       "Name: name, Length: 978, dtype: int64"
      ]
     },
     "execution_count": 45,
     "metadata": {},
     "output_type": "execute_result"
    }
   ],
   "source": [
    "twitter_data['name'].value_counts()"
   ]
  },
  {
   "cell_type": "markdown",
   "id": "7d1e52c2",
   "metadata": {},
   "source": [
    "#### twitter_data: make all names start with capital letter"
   ]
  },
  {
   "cell_type": "markdown",
   "id": "a726c583",
   "metadata": {},
   "source": [
    "##### Define\n",
    "use str.strip() and str.capitalize()"
   ]
  },
  {
   "cell_type": "markdown",
   "id": "dd323e9b",
   "metadata": {},
   "source": [
    "##### Code"
   ]
  },
  {
   "cell_type": "code",
   "execution_count": 46,
   "id": "a541341b",
   "metadata": {},
   "outputs": [],
   "source": [
    "twitter_data['name'] = twitter_data['name'].str.strip().str.capitalize()"
   ]
  },
  {
   "cell_type": "markdown",
   "id": "b8502af5",
   "metadata": {},
   "source": [
    "##### Test"
   ]
  },
  {
   "cell_type": "code",
   "execution_count": 47,
   "id": "a152bf80",
   "metadata": {},
   "outputs": [
    {
     "data": {
      "text/plain": [
       "array(['Phineas', 'Tilly', 'Archie', 'Darla', 'Franklin', nan, 'Jax',\n",
       "       'Zoey', 'Cassie', 'Koda', 'Bruno', 'Ted', 'Stuart', 'Oliver',\n",
       "       'Jim', 'Zeke', 'Ralphus', 'Canela', 'Gerald', 'Jeffrey', 'Such',\n",
       "       'Maya', 'Mingus', 'Derek', 'Roscoe', 'Waffles', 'Jimbo', 'Maisey',\n",
       "       'Lilly', 'Earl', 'Lola', 'Kevin', 'Yogi', 'Noah', 'Bella',\n",
       "       'Grizzwald', 'Rusty', 'Gus', 'Stanley', 'Alfy', 'Koko', 'Rey',\n",
       "       'Gary', 'Elliot', 'Louis', 'Jesse', 'Romeo', 'Bailey', 'Duddles',\n",
       "       'Jack', 'Emmy', 'Steven', 'Beau', 'Snoopy', 'Shadow', 'Terrance',\n",
       "       'Aja', 'Penny', 'Dante', 'Nelly', 'Ginger', 'Benedict', 'Venti',\n",
       "       'Goose', 'Nugget', 'Cash', 'Coco', 'Jed', 'Sebastian', 'Walter',\n",
       "       'Sierra', 'Monkey', 'Harry', 'Kody', 'Lassie', 'Rover', 'Napolean',\n",
       "       'Dawn', 'Boomer', 'Cody', 'Rumble', 'Clifford', 'Quite', 'Dewey',\n",
       "       'Scout', 'Gizmo', 'Cooper', 'Harold', 'Shikha', 'Jamesy', 'Lili',\n",
       "       'Sammy', 'Meatball', 'Paisley', 'Albus', 'Neptune', 'Quinn',\n",
       "       'Belle', 'Zooey', 'Dave', 'Jersey', 'Hobbes', 'Burt', 'Lorenzo',\n",
       "       'Carl', 'Jordy', 'Milky', 'Trooper', 'Winston', 'Sophie', 'Wyatt',\n",
       "       'Rosie', 'Thor', 'Oscar', 'Luna', 'Callie', 'Cermet', 'George',\n",
       "       'Marlee', 'Arya', 'Einstein', 'Alice', 'Rumpole', 'Benny', 'Aspen',\n",
       "       'Jarod', 'Wiggles', 'General', 'Sailor', 'Astrid', 'Iggy', 'Snoop',\n",
       "       'Kyle', 'Leo', 'Riley', 'Gidget', 'Noosh', 'Odin', 'Jerry',\n",
       "       'Charlie', 'Georgie', 'Rontu', 'Cannon', 'Furzey', 'Daisy', 'Tuck',\n",
       "       'Barney', 'Vixen', 'Jarvis', 'Mimosa', 'Pickles', 'Bungalo',\n",
       "       'Brady', 'Margo', 'Sadie', 'Hank', 'Tycho', 'Stephan', 'Indie',\n",
       "       'Winnie', 'Bentley', 'Ken', 'Max', 'Maddie', 'Pipsy', 'Monty',\n",
       "       'Sojourner', 'Odie', 'Arlo', 'Sunny', 'Vincent', 'Lucy', 'Clark',\n",
       "       'Mookie', 'Meera', 'Buddy', 'Ava', 'Rory', 'Eli', 'Ash', 'Tucker',\n",
       "       'Tobi', 'Chester', 'Wilson', 'Sunshine', 'Lipton', 'Gabby',\n",
       "       'Bronte', 'Poppy', 'Rhino', 'Willow', 'Not', 'Orion', 'Eevee',\n",
       "       'Smiley', 'Logan', 'Moreton', 'Klein', 'Miguel', 'Emanuel', 'Kuyu',\n",
       "       'Dutch', 'Pete', 'Scooter', 'Reggie', 'Kyro', 'Samson', 'Loki',\n",
       "       'Mia', 'Malcolm', 'Dexter', 'Alfie', 'Fiona', 'One', 'Mutt',\n",
       "       'Bear', 'Doobert', 'Beebop', 'Alexander', 'Sailer', 'Brutus',\n",
       "       'Kona', 'Boots', 'Ralphie', 'Phil', 'Cupid', 'Pawnd', 'Pilot',\n",
       "       'Ike', 'Mo', 'Toby', 'Sweet', 'Pablo', 'Nala', 'Balto', 'Crawford',\n",
       "       'Gabe', 'Mattie', 'Jimison', 'Hercules', 'Duchess', 'Harlso',\n",
       "       'Sampson', 'Sundance', 'Luca', 'Flash', 'Finn', 'Peaches', 'Howie',\n",
       "       'Jazzy', 'Anna', 'Bo', 'Seamus', 'Wafer', 'Chelsea', 'Tom',\n",
       "       'Moose', 'Florence', 'Autumn', 'Dido', 'Eugene', 'Herschel',\n",
       "       'Strudel', 'Tebow', 'Chloe', 'Betty', 'Timber', 'Binky', 'Dudley',\n",
       "       'Comet', 'Larry', 'Levi', 'Akumi', 'Titan', 'Olivia', 'Alf',\n",
       "       'Oshie', 'Bruce', 'Chubbs', 'Sky', 'Atlas', 'Eleanor', 'Layla',\n",
       "       'Rocky', 'Baron', 'Tyr', 'Bauer', 'Swagger', 'Brandi', 'Mary',\n",
       "       'Moe', 'Halo', 'Augie', 'Craig', 'Sam', 'Hunter', 'Pavlov',\n",
       "       'Maximus', 'Wallace', 'Ito', 'Milo', 'Ollie', 'Cali', 'Lennon',\n",
       "       'Incredibly', 'Major', 'Duke', 'Reginald', 'Sansa', 'Shooter',\n",
       "       'Django', 'Diogi', 'Sonny', 'Philbert', 'Marley', 'Severus',\n",
       "       'Ronnie', 'Anakin', 'Bones', 'Mauve', 'Chef', 'Doc', 'Sobe',\n",
       "       'Longfellow', 'Mister', 'Iroh', 'Baloo', 'Stubert', 'Paull',\n",
       "       'Tickles', 'Timison', 'Davey', 'Pancake', 'Tyrone', 'Snicku',\n",
       "       'Ruby', 'Brody', 'Rizzy', 'Mack', 'Butter', 'Nimbus', 'Laika',\n",
       "       'Dobby', 'Juno', 'Maude', 'Lily', 'Newt', 'Benji', 'Nida', 'Robin',\n",
       "       'Monster', 'Bebe', 'Remus', 'Mabel', 'Misty', 'Happy', 'Mosby',\n",
       "       'Maggie', 'Leela', 'Ralphy', 'Brownie', 'Meyer', 'Stella', 'Mad',\n",
       "       'Frank', 'Tonks', 'Lincoln', 'Oakley', 'Dale', 'Rizzo', 'Arnie',\n",
       "       'Pinot', 'Dallas', 'Hero', 'Frankie', 'Stormy', 'Mairi', 'Loomis',\n",
       "       'Godi', 'Kenny', 'Deacon', 'Timmy', 'Harper', 'Chipson', 'Combo',\n",
       "       'Dash', 'Bell', 'Hurley', 'Jay', 'Mya', 'Strider', 'An', 'Wesley',\n",
       "       'Solomon', 'Huck', 'Very', 'O', 'Blue', 'Finley', 'Sprinkles',\n",
       "       'Heinrich', 'Shakespeare', 'Fizz', 'Chip', 'Grey', 'Roosevelt',\n",
       "       'Gromit', 'Willem', 'Dakota', 'Dixie', 'Al', 'Jackson', 'Just',\n",
       "       'Carbon', 'Dondon', 'Kirby', 'Lou', 'Nollie', 'Chevy', 'Tito',\n",
       "       'Louie', 'Rupert', 'Rufus', 'Brudge', 'Shadoe', 'Colby', 'Angel',\n",
       "       'Brat', 'Tove', 'My', 'Aubie', 'Kota', 'Eve', 'Glenn', 'Shelby',\n",
       "       'Sephie', 'Bonaparte', 'Albert', 'Wishes', 'Rose', 'Theo', 'Rocco',\n",
       "       'Fido', 'Emma', 'Spencer', 'Lilli', 'Boston', 'Brandonald',\n",
       "       'Corey', 'Leonard', 'Chompsky', 'Beckham', 'Devón', 'Gert',\n",
       "       'Watson', 'Rubio', 'Keith', 'Dex', 'Carly', 'Ace', 'Tayzie',\n",
       "       'Grizzie', 'Fred', 'Gilbert', 'Zoe', 'Stewie', 'Calvin', 'Lilah',\n",
       "       'Spanky', 'Jameson', 'Piper', 'Atticus', 'Blu', 'Dietrich',\n",
       "       'Divine', 'Tripp', 'His', 'Cora', 'Huxley', 'Keurig', 'Bookstore',\n",
       "       'Linus', 'Abby', 'Shaggy', 'Shiloh', 'Gustav', 'Arlen', 'Percy',\n",
       "       'Lenox', 'Sugar', 'Harvey', 'Blanket', 'Actually', 'Geno', 'Stark',\n",
       "       'Beya', 'Kilo', 'Kayla', 'Maxaroni', 'Doug', 'Edmund', 'Aqua',\n",
       "       'Theodore', 'Chase', 'Getting', 'Rorie', 'Simba', 'Charles',\n",
       "       'Bayley', 'Axel', 'Storkson', 'Remy', 'Chadrick', 'Kellogg',\n",
       "       'Buckley', 'Livvie', 'Terry', 'Hermione', 'Ralpher', 'Aldrick',\n",
       "       'This', 'Unacceptable', 'Rooney', 'Crystal', 'Ziva', 'Stefan',\n",
       "       'Pupcasso', 'Puff', 'Flurpson', 'Coleman', 'Enchilada', 'Raymond',\n",
       "       'All', 'Rueben', 'Cilantro', 'Karll', 'Sprout', 'Blitz', 'Bloop',\n",
       "       'Lillie', 'Ashleigh', 'Kreggory', 'Sarge', 'Luther', 'Ivar',\n",
       "       'Jangle', 'Schnitzel', 'Panda', 'Berkeley', 'Ralphé', 'Charleson',\n",
       "       'Clyde', 'Harnold', 'Sid', 'Pippa', 'Otis', 'Carper', 'Bowie',\n",
       "       'Alexanderson', 'Suki', 'Barclay', 'Skittle', 'Ebby', 'Flávio',\n",
       "       'Smokey', 'Link', 'Jennifur', 'Ozzy', 'Bluebert', 'Stephanus',\n",
       "       'Bubbles', 'Old', 'Zeus', 'Bertson', 'Nico', 'Michelangelope',\n",
       "       'Siba', 'Calbert', 'Curtis', 'Travis', 'Thumas', 'Kanu', 'Lance',\n",
       "       'Opie', 'Kane', 'Olive', 'Chuckles', 'Staniel', 'Sora', 'Beemo',\n",
       "       'Gunner', 'Infuriating', 'Lacy', 'Tater', 'Olaf', 'Cecil', 'Vince',\n",
       "       'Karma', 'Billy', 'Walker', 'Rodney', 'Klevin', 'Malikai',\n",
       "       'Bobble', 'River', 'Jebberson', 'Remington', 'Farfle', 'Jiminus',\n",
       "       'Clarkus', 'Finnegus', 'Cupcake', 'Kathmandu', 'Ellie', 'Katie',\n",
       "       'Kara', 'Adele', 'Zara', 'Ambrose', 'Jimothy', 'Bode', 'Terrenth',\n",
       "       'Reese', 'Chesterson', 'Lucia', 'Bisquick', 'Ralphson', 'Socks',\n",
       "       'Rambo', 'Rudy', 'Fiji', 'Rilo', 'Bilbo', 'Coopson', 'Yoda',\n",
       "       'Millie', 'Chet', 'Crouton', 'Daniel', 'Kaia', 'Murphy', 'Dotsy',\n",
       "       'Eazy', 'Coops', 'Fillup', 'Miley', 'Charl', 'Reagan', 'Yukon',\n",
       "       'Cece', 'Cuddles', 'Claude', 'Jessiga', 'Carter', 'Ole', 'Pherb',\n",
       "       'Blipson', 'Reptar', 'Trevith', 'Berb', 'Bob', 'Colin', 'Brian',\n",
       "       'Oliviér', 'Grady', 'Kobe', 'Freddery', 'Bodie', 'Dunkin', 'Wally',\n",
       "       'Tupawc', 'Amber', 'Edgar', 'Teddy', 'Kingsley', 'Brockly',\n",
       "       'Richie', 'Molly', 'Vinscent', 'Cedrick', 'Hazel', 'Lolo', 'Eriq',\n",
       "       'Phred', 'The', 'Oddie', 'Maxwell', 'Geoff', 'Covach', 'Durg',\n",
       "       'Fynn', 'Ricky', 'Herald', 'Lucky', 'Ferg', 'Trip', 'Clarence',\n",
       "       'Hamrick', 'Brad', 'Pubert', 'Frönq', 'Derby', 'Lizzie', 'Ember',\n",
       "       'Blakely', 'Opal', 'Marq', 'Kramer', 'Barry', 'Gordon', 'Baxter',\n",
       "       'Mona', 'Horace', 'Crimson', 'Birf', 'Hammond', 'Lorelei', 'Marty',\n",
       "       'Brooks', 'Petrick', 'Hubertson', 'Gerbald', 'Oreo', 'Bruiser',\n",
       "       'Perry', 'Bobby', 'Jeph', 'Obi', 'Tino', 'Kulet', 'Sweets', 'Lupe',\n",
       "       'Tiger', 'Jiminy', 'Griffin', 'Banjo', 'Brandy', 'Lulu', 'Darrel',\n",
       "       'Taco', 'Joey', 'Patrick', 'Kreg', 'Todo', 'Tess', 'Ulysses',\n",
       "       'Toffee', 'Apollo', 'Asher', 'Glacier', 'Chuck', 'Champ', 'Ozzie',\n",
       "       'Griswold', 'Cheesy', 'Moofasa', 'Hector', 'Goliath', 'Kawhi',\n",
       "       'By', 'Emmie', 'Penelope', 'Willie', 'Rinna', 'Mike', 'William',\n",
       "       'Dwight', 'Evy', 'Officially', 'Rascal', 'Linda', 'Tug', 'Tango',\n",
       "       'Grizz', 'Jerome', 'Crumpet', 'Jessifer', 'Izzy', 'Ralph', 'Sandy',\n",
       "       'Humphrey', 'Tassy', 'Juckson', 'Chuq', 'Tyrus', 'Karl',\n",
       "       'Godzilla', 'Vinnie', 'Kenneth', 'Herm', 'Bert', 'Striker',\n",
       "       'Donny', 'Pepper', 'Bernie', 'Buddah', 'Lenny', 'Wylie', 'Arnold',\n",
       "       'Zuzu', 'Mollie', 'Laela', 'Tedders', 'Superpup', 'Rufio', 'Jeb',\n",
       "       'Rodman', 'Jonah', 'Chesney', 'Life', 'Henry', 'Bobbay', 'Mitch',\n",
       "       'Kaiya', 'Acro', 'Aiden', 'Obie', 'Dot', 'Shnuggles', 'Kendall',\n",
       "       'Kip', 'Jeffri', 'Steve', 'Mac', 'Fletcher', 'Kenzie', 'Pumpkin',\n",
       "       'Schnozz', 'Gustaf', 'Cheryl', 'Ed', 'Leonidas', 'Norman', 'Caryl',\n",
       "       'Scott', 'Taz', 'Darby', 'Jackie', 'Light', 'Jazz', 'Franq',\n",
       "       'Pippin', 'Rolf', 'Snickers', 'Ridley', 'Cal', 'Bradley', 'Bubba',\n",
       "       'Tuco', 'Patch', 'Mojo', 'Batdog', 'Dylan', 'Space', 'Mark',\n",
       "       'Jacob', 'Jd', 'Alejandro', 'Scruffers', 'Pip', 'Julius', 'Tanner',\n",
       "       'Sparky', 'Anthony', 'Holly', 'Jett', 'Amy', 'Sage', 'Andy',\n",
       "       'Mason', 'Trigger', 'Antony', 'Creg', 'Traviss', 'Gin', 'Jeffrie',\n",
       "       'Danny', 'Ester', 'Pluto', 'Bloo', 'Edd', 'Willy', 'Spork', 'Herb',\n",
       "       'Damon', 'Peanut', 'Nigel', 'Cherokee', 'Butters', 'Hemry',\n",
       "       'Sandra', 'Fabio', 'Randall', 'Liam', 'Tommy', 'Ben', 'Raphael',\n",
       "       'Julio', 'Andru', 'Alphred', 'Kloey', 'Shawwn', 'Skye', 'Kollin',\n",
       "       'Alfredo', 'Ronduh', 'Billl', 'Saydee', 'Dug', 'Tessa', 'Sully',\n",
       "       'Kirk', 'Ralf', 'Clarq', 'Jaspers', 'Samsom', 'Harrison', 'Chaz',\n",
       "       'Jeremy', 'Jaycob', 'Leroi', 'Lambeau', 'Ruffles', 'Amélie',\n",
       "       'Bobb', 'Banditt', 'Kevon', 'Winifred', 'Hanz', 'Berta', 'Churlie',\n",
       "       'Zeek', 'Timofy', 'Maks', 'Jomathan', 'Kallie', 'Marvin', 'Spark',\n",
       "       'Gòrdón', 'Chuk', 'Jo', 'Dayz', 'Guss', 'Jareld', 'Torque', 'Ron',\n",
       "       'Skittles', 'Alfonso', 'Cleopatricia', 'Erik', 'Stu', 'Tedrick',\n",
       "       'Filup', 'Kial', 'Klint', 'Naphaniel', 'Dook', 'Hall', 'Philippe',\n",
       "       'Kohl', 'Biden', 'Fwed', 'Genevieve', 'Joshwa', 'Bradlay', 'Clybe',\n",
       "       'Keet', 'Carll', 'Pepe', 'Jockson', 'Octaviath', 'Josep', 'Lugan',\n",
       "       'Johm', 'Christoper'], dtype=object)"
      ]
     },
     "execution_count": 47,
     "metadata": {},
     "output_type": "execute_result"
    }
   ],
   "source": [
    "twitter_data['name'].unique()"
   ]
  },
  {
   "cell_type": "markdown",
   "id": "1e109c72",
   "metadata": {},
   "source": [
    "#### twitter_data: fill expanded_urls where value is missing"
   ]
  },
  {
   "cell_type": "markdown",
   "id": "88d785eb",
   "metadata": {},
   "source": [
    "##### Define\n",
    "1) Find the list of indices that have missing expanded_urls field\n",
    "\n",
    "2) Create a maping dictionary that matches index and the filled expanded_url field\n",
    "\n",
    "3) Use the dictionary to fill the missing data"
   ]
  },
  {
   "cell_type": "markdown",
   "id": "d19658c2",
   "metadata": {},
   "source": [
    "##### Code"
   ]
  },
  {
   "cell_type": "code",
   "execution_count": 48,
   "id": "8d3894ff",
   "metadata": {},
   "outputs": [],
   "source": [
    "idx_list = list(twitter_data[twitter_data['expanded_urls'].isna()].index)\n",
    "mapper = {idx: 'https://twitter.com/dog_rates/status/{}/photo/1'.format(idx) for idx in idx_list}\n",
    "\n",
    "for key in mapper.keys():\n",
    "    twitter_data.loc[key, 'expanded_urls'] = mapper[key]"
   ]
  },
  {
   "cell_type": "markdown",
   "id": "6f4ba6fe",
   "metadata": {},
   "source": [
    "##### Test"
   ]
  },
  {
   "cell_type": "code",
   "execution_count": 49,
   "id": "ffa8c362",
   "metadata": {},
   "outputs": [
    {
     "data": {
      "text/html": [
       "<div>\n",
       "<style scoped>\n",
       "    .dataframe tbody tr th:only-of-type {\n",
       "        vertical-align: middle;\n",
       "    }\n",
       "\n",
       "    .dataframe tbody tr th {\n",
       "        vertical-align: top;\n",
       "    }\n",
       "\n",
       "    .dataframe thead th {\n",
       "        text-align: right;\n",
       "    }\n",
       "</style>\n",
       "<table border=\"1\" class=\"dataframe\">\n",
       "  <thead>\n",
       "    <tr style=\"text-align: right;\">\n",
       "      <th></th>\n",
       "      <th>timestamp</th>\n",
       "      <th>source</th>\n",
       "      <th>text</th>\n",
       "      <th>expanded_urls</th>\n",
       "      <th>rating_numerator</th>\n",
       "      <th>name</th>\n",
       "      <th>dog_stage</th>\n",
       "      <th>favorite_count</th>\n",
       "      <th>retweet_count</th>\n",
       "    </tr>\n",
       "    <tr>\n",
       "      <th>tweet_id</th>\n",
       "      <th></th>\n",
       "      <th></th>\n",
       "      <th></th>\n",
       "      <th></th>\n",
       "      <th></th>\n",
       "      <th></th>\n",
       "      <th></th>\n",
       "      <th></th>\n",
       "      <th></th>\n",
       "    </tr>\n",
       "  </thead>\n",
       "  <tbody>\n",
       "  </tbody>\n",
       "</table>\n",
       "</div>"
      ],
      "text/plain": [
       "Empty DataFrame\n",
       "Columns: [timestamp, source, text, expanded_urls, rating_numerator, name, dog_stage, favorite_count, retweet_count]\n",
       "Index: []"
      ]
     },
     "execution_count": 49,
     "metadata": {},
     "output_type": "execute_result"
    }
   ],
   "source": [
    "twitter_data[twitter_data['expanded_urls'].isna()]"
   ]
  },
  {
   "cell_type": "markdown",
   "id": "1463939e",
   "metadata": {},
   "source": [
    "#### twitter_image_predicitons: set_index to tweets_id"
   ]
  },
  {
   "cell_type": "markdown",
   "id": "9bfeb223",
   "metadata": {},
   "source": [
    "##### Define\n",
    "use set_index()"
   ]
  },
  {
   "cell_type": "markdown",
   "id": "7e589a7f",
   "metadata": {},
   "source": [
    "##### Code"
   ]
  },
  {
   "cell_type": "code",
   "execution_count": 50,
   "id": "3e4da63c",
   "metadata": {},
   "outputs": [],
   "source": [
    "twitter_image_predicitons.set_index('tweet_id', inplace=True)"
   ]
  },
  {
   "cell_type": "markdown",
   "id": "56e1b415",
   "metadata": {},
   "source": [
    "##### Test"
   ]
  },
  {
   "cell_type": "code",
   "execution_count": 51,
   "id": "8b20ff8d",
   "metadata": {},
   "outputs": [
    {
     "data": {
      "text/plain": [
       "666020888022790149"
      ]
     },
     "execution_count": 51,
     "metadata": {},
     "output_type": "execute_result"
    }
   ],
   "source": [
    "twitter_image_predicitons.head(1).index[0]"
   ]
  },
  {
   "cell_type": "markdown",
   "id": "c4a4b1a2",
   "metadata": {},
   "source": [
    "##### twitter_data: delete tweets with favourite_count missing data as they were probably deleted irl"
   ]
  },
  {
   "cell_type": "markdown",
   "id": "0541731a",
   "metadata": {},
   "source": [
    "##### Define\n",
    "filter 'favorite_count' by na values, loop thorugh indexes and drop each index "
   ]
  },
  {
   "cell_type": "markdown",
   "id": "ba205641",
   "metadata": {},
   "source": [
    "##### Code"
   ]
  },
  {
   "cell_type": "code",
   "execution_count": 52,
   "id": "22549164",
   "metadata": {},
   "outputs": [],
   "source": [
    "for idx in twitter_data[twitter_data['favorite_count'].isna()].index:\n",
    "    twitter_data.drop(idx, inplace=True)"
   ]
  },
  {
   "cell_type": "markdown",
   "id": "fe7ed33a",
   "metadata": {},
   "source": [
    "##### Test"
   ]
  },
  {
   "cell_type": "code",
   "execution_count": 53,
   "id": "a91b368d",
   "metadata": {},
   "outputs": [
    {
     "data": {
      "text/html": [
       "<div>\n",
       "<style scoped>\n",
       "    .dataframe tbody tr th:only-of-type {\n",
       "        vertical-align: middle;\n",
       "    }\n",
       "\n",
       "    .dataframe tbody tr th {\n",
       "        vertical-align: top;\n",
       "    }\n",
       "\n",
       "    .dataframe thead th {\n",
       "        text-align: right;\n",
       "    }\n",
       "</style>\n",
       "<table border=\"1\" class=\"dataframe\">\n",
       "  <thead>\n",
       "    <tr style=\"text-align: right;\">\n",
       "      <th></th>\n",
       "      <th>timestamp</th>\n",
       "      <th>source</th>\n",
       "      <th>text</th>\n",
       "      <th>expanded_urls</th>\n",
       "      <th>rating_numerator</th>\n",
       "      <th>name</th>\n",
       "      <th>dog_stage</th>\n",
       "      <th>favorite_count</th>\n",
       "      <th>retweet_count</th>\n",
       "    </tr>\n",
       "    <tr>\n",
       "      <th>tweet_id</th>\n",
       "      <th></th>\n",
       "      <th></th>\n",
       "      <th></th>\n",
       "      <th></th>\n",
       "      <th></th>\n",
       "      <th></th>\n",
       "      <th></th>\n",
       "      <th></th>\n",
       "      <th></th>\n",
       "    </tr>\n",
       "  </thead>\n",
       "  <tbody>\n",
       "  </tbody>\n",
       "</table>\n",
       "</div>"
      ],
      "text/plain": [
       "Empty DataFrame\n",
       "Columns: [timestamp, source, text, expanded_urls, rating_numerator, name, dog_stage, favorite_count, retweet_count]\n",
       "Index: []"
      ]
     },
     "execution_count": 53,
     "metadata": {},
     "output_type": "execute_result"
    }
   ],
   "source": [
    "twitter_data[twitter_data['favorite_count'].isna()]"
   ]
  },
  {
   "cell_type": "markdown",
   "id": "145f09de",
   "metadata": {},
   "source": [
    "#### twitter_data: change favourite_count and retweet_count to int"
   ]
  },
  {
   "cell_type": "markdown",
   "id": "0cef153a",
   "metadata": {},
   "source": [
    "##### Define\n",
    "use astype()"
   ]
  },
  {
   "cell_type": "markdown",
   "id": "67817d49",
   "metadata": {},
   "source": [
    "##### Code"
   ]
  },
  {
   "cell_type": "code",
   "execution_count": 54,
   "id": "b5af565a",
   "metadata": {},
   "outputs": [],
   "source": [
    "twitter_data['favorite_count'] = twitter_data['favorite_count'].astype(int)\n",
    "twitter_data['retweet_count'] = twitter_data['retweet_count'].astype(int)"
   ]
  },
  {
   "cell_type": "markdown",
   "id": "b7ffc917",
   "metadata": {},
   "source": [
    "##### Test"
   ]
  },
  {
   "cell_type": "code",
   "execution_count": 55,
   "id": "2b974145",
   "metadata": {},
   "outputs": [
    {
     "name": "stdout",
     "output_type": "stream",
     "text": [
      "<class 'pandas.core.frame.DataFrame'>\n",
      "Int64Index: 2327 entries, 892420643555336193 to 666020888022790149\n",
      "Data columns (total 9 columns):\n",
      " #   Column            Non-Null Count  Dtype              \n",
      "---  ------            --------------  -----              \n",
      " 0   timestamp         2327 non-null   datetime64[ns, UTC]\n",
      " 1   source            2327 non-null   object             \n",
      " 2   text              2327 non-null   object             \n",
      " 3   expanded_urls     2327 non-null   object             \n",
      " 4   rating_numerator  2327 non-null   int64              \n",
      " 5   name              1563 non-null   object             \n",
      " 6   dog_stage         2327 non-null   object             \n",
      " 7   favorite_count    2327 non-null   int32              \n",
      " 8   retweet_count     2327 non-null   int32              \n",
      "dtypes: datetime64[ns, UTC](1), int32(2), int64(1), object(5)\n",
      "memory usage: 163.6+ KB\n"
     ]
    }
   ],
   "source": [
    "twitter_data.info()"
   ]
  },
  {
   "cell_type": "markdown",
   "id": "a12a3d5f",
   "metadata": {},
   "source": [
    "<h1> Creating master DataFrame"
   ]
  },
  {
   "cell_type": "markdown",
   "id": "a5b3f24d",
   "metadata": {},
   "source": [
    "##### Code"
   ]
  },
  {
   "cell_type": "code",
   "execution_count": 56,
   "id": "d1bcb847",
   "metadata": {},
   "outputs": [],
   "source": [
    "master = pd.merge(left=twitter_data, right=twitter_image_predicitons, how='inner', left_index=True, right_index=True)"
   ]
  },
  {
   "cell_type": "markdown",
   "id": "76ef69ef",
   "metadata": {},
   "source": [
    "##### Test"
   ]
  },
  {
   "cell_type": "code",
   "execution_count": 57,
   "id": "564719fa",
   "metadata": {},
   "outputs": [
    {
     "data": {
      "text/html": [
       "<div>\n",
       "<style scoped>\n",
       "    .dataframe tbody tr th:only-of-type {\n",
       "        vertical-align: middle;\n",
       "    }\n",
       "\n",
       "    .dataframe tbody tr th {\n",
       "        vertical-align: top;\n",
       "    }\n",
       "\n",
       "    .dataframe thead th {\n",
       "        text-align: right;\n",
       "    }\n",
       "</style>\n",
       "<table border=\"1\" class=\"dataframe\">\n",
       "  <thead>\n",
       "    <tr style=\"text-align: right;\">\n",
       "      <th></th>\n",
       "      <th>timestamp</th>\n",
       "      <th>source</th>\n",
       "      <th>text</th>\n",
       "      <th>expanded_urls</th>\n",
       "      <th>rating_numerator</th>\n",
       "      <th>name</th>\n",
       "      <th>dog_stage</th>\n",
       "      <th>favorite_count</th>\n",
       "      <th>retweet_count</th>\n",
       "      <th>jpg_url</th>\n",
       "      <th>img_num</th>\n",
       "      <th>p1</th>\n",
       "      <th>p1_conf</th>\n",
       "      <th>p1_dog</th>\n",
       "      <th>p2</th>\n",
       "      <th>p2_conf</th>\n",
       "      <th>p2_dog</th>\n",
       "      <th>p3</th>\n",
       "      <th>p3_conf</th>\n",
       "      <th>p3_dog</th>\n",
       "    </tr>\n",
       "    <tr>\n",
       "      <th>tweet_id</th>\n",
       "      <th></th>\n",
       "      <th></th>\n",
       "      <th></th>\n",
       "      <th></th>\n",
       "      <th></th>\n",
       "      <th></th>\n",
       "      <th></th>\n",
       "      <th></th>\n",
       "      <th></th>\n",
       "      <th></th>\n",
       "      <th></th>\n",
       "      <th></th>\n",
       "      <th></th>\n",
       "      <th></th>\n",
       "      <th></th>\n",
       "      <th></th>\n",
       "      <th></th>\n",
       "      <th></th>\n",
       "      <th></th>\n",
       "      <th></th>\n",
       "    </tr>\n",
       "  </thead>\n",
       "  <tbody>\n",
       "    <tr>\n",
       "      <th>892420643555336193</th>\n",
       "      <td>2017-08-01 16:23:56+00:00</td>\n",
       "      <td>Twitter for iPhone</td>\n",
       "      <td>This is Phineas. He's a mystical boy. Only eve...</td>\n",
       "      <td>https://twitter.com/dog_rates/status/892420643...</td>\n",
       "      <td>10</td>\n",
       "      <td>Phineas</td>\n",
       "      <td>normal</td>\n",
       "      <td>33702</td>\n",
       "      <td>6976</td>\n",
       "      <td>https://pbs.twimg.com/media/DGKD1-bXoAAIAUK.jpg</td>\n",
       "      <td>1</td>\n",
       "      <td>orange</td>\n",
       "      <td>0.097049</td>\n",
       "      <td>False</td>\n",
       "      <td>bagel</td>\n",
       "      <td>0.085851</td>\n",
       "      <td>False</td>\n",
       "      <td>banana</td>\n",
       "      <td>0.076110</td>\n",
       "      <td>False</td>\n",
       "    </tr>\n",
       "    <tr>\n",
       "      <th>892177421306343426</th>\n",
       "      <td>2017-08-01 00:17:27+00:00</td>\n",
       "      <td>Twitter for iPhone</td>\n",
       "      <td>This is Tilly. She's just checking pup on you....</td>\n",
       "      <td>https://twitter.com/dog_rates/status/892177421...</td>\n",
       "      <td>10</td>\n",
       "      <td>Tilly</td>\n",
       "      <td>normal</td>\n",
       "      <td>29231</td>\n",
       "      <td>5278</td>\n",
       "      <td>https://pbs.twimg.com/media/DGGmoV4XsAAUL6n.jpg</td>\n",
       "      <td>1</td>\n",
       "      <td>chihuahua</td>\n",
       "      <td>0.323581</td>\n",
       "      <td>True</td>\n",
       "      <td>pekinese</td>\n",
       "      <td>0.090647</td>\n",
       "      <td>True</td>\n",
       "      <td>papillon</td>\n",
       "      <td>0.068957</td>\n",
       "      <td>True</td>\n",
       "    </tr>\n",
       "    <tr>\n",
       "      <th>891815181378084864</th>\n",
       "      <td>2017-07-31 00:18:03+00:00</td>\n",
       "      <td>Twitter for iPhone</td>\n",
       "      <td>This is Archie. He is a rare Norwegian Pouncin...</td>\n",
       "      <td>https://twitter.com/dog_rates/status/891815181...</td>\n",
       "      <td>10</td>\n",
       "      <td>Archie</td>\n",
       "      <td>normal</td>\n",
       "      <td>21975</td>\n",
       "      <td>3466</td>\n",
       "      <td>https://pbs.twimg.com/media/DGBdLU1WsAANxJ9.jpg</td>\n",
       "      <td>1</td>\n",
       "      <td>chihuahua</td>\n",
       "      <td>0.716012</td>\n",
       "      <td>True</td>\n",
       "      <td>malamute</td>\n",
       "      <td>0.078253</td>\n",
       "      <td>True</td>\n",
       "      <td>kelpie</td>\n",
       "      <td>0.031379</td>\n",
       "      <td>True</td>\n",
       "    </tr>\n",
       "    <tr>\n",
       "      <th>891689557279858688</th>\n",
       "      <td>2017-07-30 15:58:51+00:00</td>\n",
       "      <td>Twitter for iPhone</td>\n",
       "      <td>This is Darla. She commenced a snooze mid meal...</td>\n",
       "      <td>https://twitter.com/dog_rates/status/891689557...</td>\n",
       "      <td>10</td>\n",
       "      <td>Darla</td>\n",
       "      <td>normal</td>\n",
       "      <td>36778</td>\n",
       "      <td>7190</td>\n",
       "      <td>https://pbs.twimg.com/media/DF_q7IAWsAEuuN8.jpg</td>\n",
       "      <td>1</td>\n",
       "      <td>paper_towel</td>\n",
       "      <td>0.170278</td>\n",
       "      <td>False</td>\n",
       "      <td>labrador_retriever</td>\n",
       "      <td>0.168086</td>\n",
       "      <td>True</td>\n",
       "      <td>spatula</td>\n",
       "      <td>0.040836</td>\n",
       "      <td>False</td>\n",
       "    </tr>\n",
       "    <tr>\n",
       "      <th>891327558926688256</th>\n",
       "      <td>2017-07-29 16:00:24+00:00</td>\n",
       "      <td>Twitter for iPhone</td>\n",
       "      <td>This is Franklin. He would like you to stop ca...</td>\n",
       "      <td>https://twitter.com/dog_rates/status/891327558...</td>\n",
       "      <td>10</td>\n",
       "      <td>Franklin</td>\n",
       "      <td>normal</td>\n",
       "      <td>35164</td>\n",
       "      <td>7723</td>\n",
       "      <td>https://pbs.twimg.com/media/DF6hr6BUMAAzZgT.jpg</td>\n",
       "      <td>2</td>\n",
       "      <td>basset</td>\n",
       "      <td>0.555712</td>\n",
       "      <td>True</td>\n",
       "      <td>english_springer</td>\n",
       "      <td>0.225770</td>\n",
       "      <td>True</td>\n",
       "      <td>german_short-haired_pointer</td>\n",
       "      <td>0.175219</td>\n",
       "      <td>True</td>\n",
       "    </tr>\n",
       "  </tbody>\n",
       "</table>\n",
       "</div>"
      ],
      "text/plain": [
       "                                   timestamp              source  \\\n",
       "tweet_id                                                           \n",
       "892420643555336193 2017-08-01 16:23:56+00:00  Twitter for iPhone   \n",
       "892177421306343426 2017-08-01 00:17:27+00:00  Twitter for iPhone   \n",
       "891815181378084864 2017-07-31 00:18:03+00:00  Twitter for iPhone   \n",
       "891689557279858688 2017-07-30 15:58:51+00:00  Twitter for iPhone   \n",
       "891327558926688256 2017-07-29 16:00:24+00:00  Twitter for iPhone   \n",
       "\n",
       "                                                                 text  \\\n",
       "tweet_id                                                                \n",
       "892420643555336193  This is Phineas. He's a mystical boy. Only eve...   \n",
       "892177421306343426  This is Tilly. She's just checking pup on you....   \n",
       "891815181378084864  This is Archie. He is a rare Norwegian Pouncin...   \n",
       "891689557279858688  This is Darla. She commenced a snooze mid meal...   \n",
       "891327558926688256  This is Franklin. He would like you to stop ca...   \n",
       "\n",
       "                                                        expanded_urls  \\\n",
       "tweet_id                                                                \n",
       "892420643555336193  https://twitter.com/dog_rates/status/892420643...   \n",
       "892177421306343426  https://twitter.com/dog_rates/status/892177421...   \n",
       "891815181378084864  https://twitter.com/dog_rates/status/891815181...   \n",
       "891689557279858688  https://twitter.com/dog_rates/status/891689557...   \n",
       "891327558926688256  https://twitter.com/dog_rates/status/891327558...   \n",
       "\n",
       "                    rating_numerator      name dog_stage  favorite_count  \\\n",
       "tweet_id                                                                   \n",
       "892420643555336193                10   Phineas    normal           33702   \n",
       "892177421306343426                10     Tilly    normal           29231   \n",
       "891815181378084864                10    Archie    normal           21975   \n",
       "891689557279858688                10     Darla    normal           36778   \n",
       "891327558926688256                10  Franklin    normal           35164   \n",
       "\n",
       "                    retweet_count  \\\n",
       "tweet_id                            \n",
       "892420643555336193           6976   \n",
       "892177421306343426           5278   \n",
       "891815181378084864           3466   \n",
       "891689557279858688           7190   \n",
       "891327558926688256           7723   \n",
       "\n",
       "                                                            jpg_url  img_num  \\\n",
       "tweet_id                                                                       \n",
       "892420643555336193  https://pbs.twimg.com/media/DGKD1-bXoAAIAUK.jpg        1   \n",
       "892177421306343426  https://pbs.twimg.com/media/DGGmoV4XsAAUL6n.jpg        1   \n",
       "891815181378084864  https://pbs.twimg.com/media/DGBdLU1WsAANxJ9.jpg        1   \n",
       "891689557279858688  https://pbs.twimg.com/media/DF_q7IAWsAEuuN8.jpg        1   \n",
       "891327558926688256  https://pbs.twimg.com/media/DF6hr6BUMAAzZgT.jpg        2   \n",
       "\n",
       "                             p1   p1_conf  p1_dog                  p2  \\\n",
       "tweet_id                                                                \n",
       "892420643555336193       orange  0.097049   False               bagel   \n",
       "892177421306343426    chihuahua  0.323581    True            pekinese   \n",
       "891815181378084864    chihuahua  0.716012    True            malamute   \n",
       "891689557279858688  paper_towel  0.170278   False  labrador_retriever   \n",
       "891327558926688256       basset  0.555712    True    english_springer   \n",
       "\n",
       "                     p2_conf  p2_dog                           p3   p3_conf  \\\n",
       "tweet_id                                                                      \n",
       "892420643555336193  0.085851   False                       banana  0.076110   \n",
       "892177421306343426  0.090647    True                     papillon  0.068957   \n",
       "891815181378084864  0.078253    True                       kelpie  0.031379   \n",
       "891689557279858688  0.168086    True                      spatula  0.040836   \n",
       "891327558926688256  0.225770    True  german_short-haired_pointer  0.175219   \n",
       "\n",
       "                    p3_dog  \n",
       "tweet_id                    \n",
       "892420643555336193   False  \n",
       "892177421306343426    True  \n",
       "891815181378084864    True  \n",
       "891689557279858688   False  \n",
       "891327558926688256    True  "
      ]
     },
     "execution_count": 57,
     "metadata": {},
     "output_type": "execute_result"
    }
   ],
   "source": [
    "master.head()"
   ]
  },
  {
   "cell_type": "code",
   "execution_count": 58,
   "id": "0b94f1ea",
   "metadata": {},
   "outputs": [
    {
     "name": "stdout",
     "output_type": "stream",
     "text": [
      "<class 'pandas.core.frame.DataFrame'>\n",
      "Int64Index: 2057 entries, 892420643555336193 to 666020888022790149\n",
      "Data columns (total 20 columns):\n",
      " #   Column            Non-Null Count  Dtype              \n",
      "---  ------            --------------  -----              \n",
      " 0   timestamp         2057 non-null   datetime64[ns, UTC]\n",
      " 1   source            2057 non-null   object             \n",
      " 2   text              2057 non-null   object             \n",
      " 3   expanded_urls     2057 non-null   object             \n",
      " 4   rating_numerator  2057 non-null   int64              \n",
      " 5   name              1454 non-null   object             \n",
      " 6   dog_stage         2057 non-null   object             \n",
      " 7   favorite_count    2057 non-null   int32              \n",
      " 8   retweet_count     2057 non-null   int32              \n",
      " 9   jpg_url           2057 non-null   object             \n",
      " 10  img_num           2057 non-null   int64              \n",
      " 11  p1                2057 non-null   object             \n",
      " 12  p1_conf           2057 non-null   float64            \n",
      " 13  p1_dog            2057 non-null   bool               \n",
      " 14  p2                2057 non-null   object             \n",
      " 15  p2_conf           2057 non-null   float64            \n",
      " 16  p2_dog            2057 non-null   bool               \n",
      " 17  p3                2057 non-null   object             \n",
      " 18  p3_conf           2057 non-null   float64            \n",
      " 19  p3_dog            2057 non-null   bool               \n",
      "dtypes: bool(3), datetime64[ns, UTC](1), float64(3), int32(2), int64(2), object(9)\n",
      "memory usage: 279.2+ KB\n"
     ]
    }
   ],
   "source": [
    "master.info()"
   ]
  },
  {
   "cell_type": "code",
   "execution_count": 59,
   "id": "392ffe15",
   "metadata": {},
   "outputs": [
    {
     "data": {
      "text/plain": [
       "<AxesSubplot:ylabel='tweet_id'>"
      ]
     },
     "execution_count": 59,
     "metadata": {},
     "output_type": "execute_result"
    },
    {
     "data": {
      "image/png": "[encoded data removed]",
      "text/plain": [
       "<Figure size 1152x576 with 2 Axes>"
      ]
     },
     "metadata": {},
     "output_type": "display_data"
    }
   ],
   "source": [
    "sns.heatmap(master.isna())"
   ]
  },
  {
   "cell_type": "markdown",
   "id": "0d756420",
   "metadata": {},
   "source": [
    "#### Storing DF in csv file"
   ]
  },
  {
   "cell_type": "code",
   "execution_count": 60,
   "id": "1251bb15",
   "metadata": {},
   "outputs": [],
   "source": [
    "master.to_csv('twitter_archive_master.csv')"
   ]
  },
  {
   "cell_type": "markdown",
   "id": "cc71f4de",
   "metadata": {},
   "source": [
    "##### Test"
   ]
  },
  {
   "cell_type": "code",
   "execution_count": 61,
   "id": "9bc028d2",
   "metadata": {},
   "outputs": [
    {
     "data": {
      "text/html": [
       "<div>\n",
       "<style scoped>\n",
       "    .dataframe tbody tr th:only-of-type {\n",
       "        vertical-align: middle;\n",
       "    }\n",
       "\n",
       "    .dataframe tbody tr th {\n",
       "        vertical-align: top;\n",
       "    }\n",
       "\n",
       "    .dataframe thead th {\n",
       "        text-align: right;\n",
       "    }\n",
       "</style>\n",
       "<table border=\"1\" class=\"dataframe\">\n",
       "  <thead>\n",
       "    <tr style=\"text-align: right;\">\n",
       "      <th></th>\n",
       "      <th>tweet_id</th>\n",
       "      <th>timestamp</th>\n",
       "      <th>source</th>\n",
       "      <th>text</th>\n",
       "      <th>expanded_urls</th>\n",
       "      <th>rating_numerator</th>\n",
       "      <th>name</th>\n",
       "      <th>dog_stage</th>\n",
       "      <th>favorite_count</th>\n",
       "      <th>retweet_count</th>\n",
       "      <th>...</th>\n",
       "      <th>img_num</th>\n",
       "      <th>p1</th>\n",
       "      <th>p1_conf</th>\n",
       "      <th>p1_dog</th>\n",
       "      <th>p2</th>\n",
       "      <th>p2_conf</th>\n",
       "      <th>p2_dog</th>\n",
       "      <th>p3</th>\n",
       "      <th>p3_conf</th>\n",
       "      <th>p3_dog</th>\n",
       "    </tr>\n",
       "  </thead>\n",
       "  <tbody>\n",
       "    <tr>\n",
       "      <th>0</th>\n",
       "      <td>892420643555336193</td>\n",
       "      <td>2017-08-01 16:23:56+00:00</td>\n",
       "      <td>Twitter for iPhone</td>\n",
       "      <td>This is Phineas. He's a mystical boy. Only eve...</td>\n",
       "      <td>https://twitter.com/dog_rates/status/892420643...</td>\n",
       "      <td>10</td>\n",
       "      <td>Phineas</td>\n",
       "      <td>normal</td>\n",
       "      <td>33702</td>\n",
       "      <td>6976</td>\n",
       "      <td>...</td>\n",
       "      <td>1</td>\n",
       "      <td>orange</td>\n",
       "      <td>0.097049</td>\n",
       "      <td>False</td>\n",
       "      <td>bagel</td>\n",
       "      <td>0.085851</td>\n",
       "      <td>False</td>\n",
       "      <td>banana</td>\n",
       "      <td>0.076110</td>\n",
       "      <td>False</td>\n",
       "    </tr>\n",
       "    <tr>\n",
       "      <th>1</th>\n",
       "      <td>892177421306343426</td>\n",
       "      <td>2017-08-01 00:17:27+00:00</td>\n",
       "      <td>Twitter for iPhone</td>\n",
       "      <td>This is Tilly. She's just checking pup on you....</td>\n",
       "      <td>https://twitter.com/dog_rates/status/892177421...</td>\n",
       "      <td>10</td>\n",
       "      <td>Tilly</td>\n",
       "      <td>normal</td>\n",
       "      <td>29231</td>\n",
       "      <td>5278</td>\n",
       "      <td>...</td>\n",
       "      <td>1</td>\n",
       "      <td>chihuahua</td>\n",
       "      <td>0.323581</td>\n",
       "      <td>True</td>\n",
       "      <td>pekinese</td>\n",
       "      <td>0.090647</td>\n",
       "      <td>True</td>\n",
       "      <td>papillon</td>\n",
       "      <td>0.068957</td>\n",
       "      <td>True</td>\n",
       "    </tr>\n",
       "    <tr>\n",
       "      <th>2</th>\n",
       "      <td>891815181378084864</td>\n",
       "      <td>2017-07-31 00:18:03+00:00</td>\n",
       "      <td>Twitter for iPhone</td>\n",
       "      <td>This is Archie. He is a rare Norwegian Pouncin...</td>\n",
       "      <td>https://twitter.com/dog_rates/status/891815181...</td>\n",
       "      <td>10</td>\n",
       "      <td>Archie</td>\n",
       "      <td>normal</td>\n",
       "      <td>21975</td>\n",
       "      <td>3466</td>\n",
       "      <td>...</td>\n",
       "      <td>1</td>\n",
       "      <td>chihuahua</td>\n",
       "      <td>0.716012</td>\n",
       "      <td>True</td>\n",
       "      <td>malamute</td>\n",
       "      <td>0.078253</td>\n",
       "      <td>True</td>\n",
       "      <td>kelpie</td>\n",
       "      <td>0.031379</td>\n",
       "      <td>True</td>\n",
       "    </tr>\n",
       "    <tr>\n",
       "      <th>3</th>\n",
       "      <td>891689557279858688</td>\n",
       "      <td>2017-07-30 15:58:51+00:00</td>\n",
       "      <td>Twitter for iPhone</td>\n",
       "      <td>This is Darla. She commenced a snooze mid meal...</td>\n",
       "      <td>https://twitter.com/dog_rates/status/891689557...</td>\n",
       "      <td>10</td>\n",
       "      <td>Darla</td>\n",
       "      <td>normal</td>\n",
       "      <td>36778</td>\n",
       "      <td>7190</td>\n",
       "      <td>...</td>\n",
       "      <td>1</td>\n",
       "      <td>paper_towel</td>\n",
       "      <td>0.170278</td>\n",
       "      <td>False</td>\n",
       "      <td>labrador_retriever</td>\n",
       "      <td>0.168086</td>\n",
       "      <td>True</td>\n",
       "      <td>spatula</td>\n",
       "      <td>0.040836</td>\n",
       "      <td>False</td>\n",
       "    </tr>\n",
       "    <tr>\n",
       "      <th>4</th>\n",
       "      <td>891327558926688256</td>\n",
       "      <td>2017-07-29 16:00:24+00:00</td>\n",
       "      <td>Twitter for iPhone</td>\n",
       "      <td>This is Franklin. He would like you to stop ca...</td>\n",
       "      <td>https://twitter.com/dog_rates/status/891327558...</td>\n",
       "      <td>10</td>\n",
       "      <td>Franklin</td>\n",
       "      <td>normal</td>\n",
       "      <td>35164</td>\n",
       "      <td>7723</td>\n",
       "      <td>...</td>\n",
       "      <td>2</td>\n",
       "      <td>basset</td>\n",
       "      <td>0.555712</td>\n",
       "      <td>True</td>\n",
       "      <td>english_springer</td>\n",
       "      <td>0.225770</td>\n",
       "      <td>True</td>\n",
       "      <td>german_short-haired_pointer</td>\n",
       "      <td>0.175219</td>\n",
       "      <td>True</td>\n",
       "    </tr>\n",
       "    <tr>\n",
       "      <th>...</th>\n",
       "      <td>...</td>\n",
       "      <td>...</td>\n",
       "      <td>...</td>\n",
       "      <td>...</td>\n",
       "      <td>...</td>\n",
       "      <td>...</td>\n",
       "      <td>...</td>\n",
       "      <td>...</td>\n",
       "      <td>...</td>\n",
       "      <td>...</td>\n",
       "      <td>...</td>\n",
       "      <td>...</td>\n",
       "      <td>...</td>\n",
       "      <td>...</td>\n",
       "      <td>...</td>\n",
       "      <td>...</td>\n",
       "      <td>...</td>\n",
       "      <td>...</td>\n",
       "      <td>...</td>\n",
       "      <td>...</td>\n",
       "      <td>...</td>\n",
       "    </tr>\n",
       "    <tr>\n",
       "      <th>2052</th>\n",
       "      <td>666049248165822465</td>\n",
       "      <td>2015-11-16 00:24:50+00:00</td>\n",
       "      <td>Twitter for iPhone</td>\n",
       "      <td>Here we have a 1949 1st generation vulpix. Enj...</td>\n",
       "      <td>https://twitter.com/dog_rates/status/666049248...</td>\n",
       "      <td>5</td>\n",
       "      <td>NaN</td>\n",
       "      <td>normal</td>\n",
       "      <td>88</td>\n",
       "      <td>36</td>\n",
       "      <td>...</td>\n",
       "      <td>1</td>\n",
       "      <td>miniature_pinscher</td>\n",
       "      <td>0.560311</td>\n",
       "      <td>True</td>\n",
       "      <td>rottweiler</td>\n",
       "      <td>0.243682</td>\n",
       "      <td>True</td>\n",
       "      <td>doberman</td>\n",
       "      <td>0.154629</td>\n",
       "      <td>True</td>\n",
       "    </tr>\n",
       "    <tr>\n",
       "      <th>2053</th>\n",
       "      <td>666044226329800704</td>\n",
       "      <td>2015-11-16 00:04:52+00:00</td>\n",
       "      <td>Twitter for iPhone</td>\n",
       "      <td>This is a purebred Piers Morgan. Loves to Netf...</td>\n",
       "      <td>https://twitter.com/dog_rates/status/666044226...</td>\n",
       "      <td>6</td>\n",
       "      <td>NaN</td>\n",
       "      <td>normal</td>\n",
       "      <td>245</td>\n",
       "      <td>115</td>\n",
       "      <td>...</td>\n",
       "      <td>1</td>\n",
       "      <td>rhodesian_ridgeback</td>\n",
       "      <td>0.408143</td>\n",
       "      <td>True</td>\n",
       "      <td>redbone</td>\n",
       "      <td>0.360687</td>\n",
       "      <td>True</td>\n",
       "      <td>miniature_pinscher</td>\n",
       "      <td>0.222752</td>\n",
       "      <td>True</td>\n",
       "    </tr>\n",
       "    <tr>\n",
       "      <th>2054</th>\n",
       "      <td>666033412701032449</td>\n",
       "      <td>2015-11-15 23:21:54+00:00</td>\n",
       "      <td>Twitter for iPhone</td>\n",
       "      <td>Here is a very happy pup. Big fan of well-main...</td>\n",
       "      <td>https://twitter.com/dog_rates/status/666033412...</td>\n",
       "      <td>9</td>\n",
       "      <td>NaN</td>\n",
       "      <td>normal</td>\n",
       "      <td>100</td>\n",
       "      <td>36</td>\n",
       "      <td>...</td>\n",
       "      <td>1</td>\n",
       "      <td>german_shepherd</td>\n",
       "      <td>0.596461</td>\n",
       "      <td>True</td>\n",
       "      <td>malinois</td>\n",
       "      <td>0.138584</td>\n",
       "      <td>True</td>\n",
       "      <td>bloodhound</td>\n",
       "      <td>0.116197</td>\n",
       "      <td>True</td>\n",
       "    </tr>\n",
       "    <tr>\n",
       "      <th>2055</th>\n",
       "      <td>666029285002620928</td>\n",
       "      <td>2015-11-15 23:05:30+00:00</td>\n",
       "      <td>Twitter for iPhone</td>\n",
       "      <td>This is a western brown Mitsubishi terrier. Up...</td>\n",
       "      <td>https://twitter.com/dog_rates/status/666029285...</td>\n",
       "      <td>7</td>\n",
       "      <td>NaN</td>\n",
       "      <td>normal</td>\n",
       "      <td>112</td>\n",
       "      <td>39</td>\n",
       "      <td>...</td>\n",
       "      <td>1</td>\n",
       "      <td>redbone</td>\n",
       "      <td>0.506826</td>\n",
       "      <td>True</td>\n",
       "      <td>miniature_pinscher</td>\n",
       "      <td>0.074192</td>\n",
       "      <td>True</td>\n",
       "      <td>rhodesian_ridgeback</td>\n",
       "      <td>0.072010</td>\n",
       "      <td>True</td>\n",
       "    </tr>\n",
       "    <tr>\n",
       "      <th>2056</th>\n",
       "      <td>666020888022790149</td>\n",
       "      <td>2015-11-15 22:32:08+00:00</td>\n",
       "      <td>Twitter for iPhone</td>\n",
       "      <td>Here we have a Japanese Irish Setter. Lost eye...</td>\n",
       "      <td>https://twitter.com/dog_rates/status/666020888...</td>\n",
       "      <td>8</td>\n",
       "      <td>NaN</td>\n",
       "      <td>normal</td>\n",
       "      <td>2283</td>\n",
       "      <td>420</td>\n",
       "      <td>...</td>\n",
       "      <td>1</td>\n",
       "      <td>welsh_springer_spaniel</td>\n",
       "      <td>0.465074</td>\n",
       "      <td>True</td>\n",
       "      <td>collie</td>\n",
       "      <td>0.156665</td>\n",
       "      <td>True</td>\n",
       "      <td>shetland_sheepdog</td>\n",
       "      <td>0.061428</td>\n",
       "      <td>True</td>\n",
       "    </tr>\n",
       "  </tbody>\n",
       "</table>\n",
       "<p>2057 rows × 21 columns</p>\n",
       "</div>"
      ],
      "text/plain": [
       "                tweet_id                  timestamp              source  \\\n",
       "0     892420643555336193  2017-08-01 16:23:56+00:00  Twitter for iPhone   \n",
       "1     892177421306343426  2017-08-01 00:17:27+00:00  Twitter for iPhone   \n",
       "2     891815181378084864  2017-07-31 00:18:03+00:00  Twitter for iPhone   \n",
       "3     891689557279858688  2017-07-30 15:58:51+00:00  Twitter for iPhone   \n",
       "4     891327558926688256  2017-07-29 16:00:24+00:00  Twitter for iPhone   \n",
       "...                  ...                        ...                 ...   \n",
       "2052  666049248165822465  2015-11-16 00:24:50+00:00  Twitter for iPhone   \n",
       "2053  666044226329800704  2015-11-16 00:04:52+00:00  Twitter for iPhone   \n",
       "2054  666033412701032449  2015-11-15 23:21:54+00:00  Twitter for iPhone   \n",
       "2055  666029285002620928  2015-11-15 23:05:30+00:00  Twitter for iPhone   \n",
       "2056  666020888022790149  2015-11-15 22:32:08+00:00  Twitter for iPhone   \n",
       "\n",
       "                                                   text  \\\n",
       "0     This is Phineas. He's a mystical boy. Only eve...   \n",
       "1     This is Tilly. She's just checking pup on you....   \n",
       "2     This is Archie. He is a rare Norwegian Pouncin...   \n",
       "3     This is Darla. She commenced a snooze mid meal...   \n",
       "4     This is Franklin. He would like you to stop ca...   \n",
       "...                                                 ...   \n",
       "2052  Here we have a 1949 1st generation vulpix. Enj...   \n",
       "2053  This is a purebred Piers Morgan. Loves to Netf...   \n",
       "2054  Here is a very happy pup. Big fan of well-main...   \n",
       "2055  This is a western brown Mitsubishi terrier. Up...   \n",
       "2056  Here we have a Japanese Irish Setter. Lost eye...   \n",
       "\n",
       "                                          expanded_urls  rating_numerator  \\\n",
       "0     https://twitter.com/dog_rates/status/892420643...                10   \n",
       "1     https://twitter.com/dog_rates/status/892177421...                10   \n",
       "2     https://twitter.com/dog_rates/status/891815181...                10   \n",
       "3     https://twitter.com/dog_rates/status/891689557...                10   \n",
       "4     https://twitter.com/dog_rates/status/891327558...                10   \n",
       "...                                                 ...               ...   \n",
       "2052  https://twitter.com/dog_rates/status/666049248...                 5   \n",
       "2053  https://twitter.com/dog_rates/status/666044226...                 6   \n",
       "2054  https://twitter.com/dog_rates/status/666033412...                 9   \n",
       "2055  https://twitter.com/dog_rates/status/666029285...                 7   \n",
       "2056  https://twitter.com/dog_rates/status/666020888...                 8   \n",
       "\n",
       "          name dog_stage  favorite_count  retweet_count  ... img_num  \\\n",
       "0      Phineas    normal           33702           6976  ...       1   \n",
       "1        Tilly    normal           29231           5278  ...       1   \n",
       "2       Archie    normal           21975           3466  ...       1   \n",
       "3        Darla    normal           36778           7190  ...       1   \n",
       "4     Franklin    normal           35164           7723  ...       2   \n",
       "...        ...       ...             ...            ...  ...     ...   \n",
       "2052       NaN    normal              88             36  ...       1   \n",
       "2053       NaN    normal             245            115  ...       1   \n",
       "2054       NaN    normal             100             36  ...       1   \n",
       "2055       NaN    normal             112             39  ...       1   \n",
       "2056       NaN    normal            2283            420  ...       1   \n",
       "\n",
       "                          p1   p1_conf  p1_dog                  p2   p2_conf  \\\n",
       "0                     orange  0.097049   False               bagel  0.085851   \n",
       "1                  chihuahua  0.323581    True            pekinese  0.090647   \n",
       "2                  chihuahua  0.716012    True            malamute  0.078253   \n",
       "3                paper_towel  0.170278   False  labrador_retriever  0.168086   \n",
       "4                     basset  0.555712    True    english_springer  0.225770   \n",
       "...                      ...       ...     ...                 ...       ...   \n",
       "2052      miniature_pinscher  0.560311    True          rottweiler  0.243682   \n",
       "2053     rhodesian_ridgeback  0.408143    True             redbone  0.360687   \n",
       "2054         german_shepherd  0.596461    True            malinois  0.138584   \n",
       "2055                 redbone  0.506826    True  miniature_pinscher  0.074192   \n",
       "2056  welsh_springer_spaniel  0.465074    True              collie  0.156665   \n",
       "\n",
       "      p2_dog                           p3   p3_conf  p3_dog  \n",
       "0      False                       banana  0.076110   False  \n",
       "1       True                     papillon  0.068957    True  \n",
       "2       True                       kelpie  0.031379    True  \n",
       "3       True                      spatula  0.040836   False  \n",
       "4       True  german_short-haired_pointer  0.175219    True  \n",
       "...      ...                          ...       ...     ...  \n",
       "2052    True                     doberman  0.154629    True  \n",
       "2053    True           miniature_pinscher  0.222752    True  \n",
       "2054    True                   bloodhound  0.116197    True  \n",
       "2055    True          rhodesian_ridgeback  0.072010    True  \n",
       "2056    True            shetland_sheepdog  0.061428    True  \n",
       "\n",
       "[2057 rows x 21 columns]"
      ]
     },
     "execution_count": 61,
     "metadata": {},
     "output_type": "execute_result"
    }
   ],
   "source": [
    "pd.read_csv('twitter_archive_master.csv')"
   ]
  },
  {
   "cell_type": "markdown",
   "id": "6d4954e3",
   "metadata": {},
   "source": [
    "<h1> Analyzing and Visualizing Data"
   ]
  },
  {
   "cell_type": "code",
   "execution_count": 62,
   "id": "666ee3a4",
   "metadata": {},
   "outputs": [
    {
     "data": {
      "image/png": "[encoded data removed]",
      "text/plain": [
       "<Figure size 1152x576 with 1 Axes>"
      ]
     },
     "metadata": {},
     "output_type": "display_data"
    }
   ],
   "source": [
    "top90 = int(round(len(master)*10/100,0)) \n",
    "bottom90 = int(round(len(master)*90/100,0)) \n",
    "df = master.sort_values(by='favorite_count')[top90:bottom90]\n",
    "\n",
    "p = sns.scatterplot(x='favorite_count', y='retweet_count', hue=pd.DatetimeIndex(df['timestamp']).year, data=df, palette=\"Paired\")\n",
    "plt.title('Correlation between number of retweets and favourites (includes only 10-90% of data)', size= 15)\n",
    "plt.savefig('scatterplot.png')"
   ]
  },
  {
   "cell_type": "markdown",
   "id": "f289e0fc",
   "metadata": {},
   "source": [
    "##### Insights\n",
    "1. Clear linear correlation between retweets and favourites\n",
    "1. Newer tweets tend to get more favourites"
   ]
  },
  {
   "cell_type": "code",
   "execution_count": 63,
   "id": "5fe3ad6f",
   "metadata": {},
   "outputs": [
    {
     "data": {
      "image/png": "[encoded data removed]",
      "text/plain": [
       "<Figure size 1152x576 with 1 Axes>"
      ]
     },
     "metadata": {},
     "output_type": "display_data"
    }
   ],
   "source": [
    "# lets see on what is the most popular letter on which dog's names start\n",
    "def first_letter(name):\n",
    "    if not pd.isnull(name):\n",
    "        return name[0]\n",
    "    else:\n",
    "        return name\n",
    "    \n",
    "series_letter = master['name'].apply(first_letter).value_counts(ascending=True)\n",
    "p = sns.barplot(x=series_letter.index, y=series_letter.values)\n",
    "p.set_xlabel(\"First letters of dog names\", fontsize = 15)\n",
    "p.set_ylabel(\"Count\", fontsize = 15)\n",
    "p.set_title('Least to most popular first letter of dog names', fontsize=17)\n",
    "plt.savefig('barplot.png')"
   ]
  },
  {
   "cell_type": "markdown",
   "id": "f0c385a0",
   "metadata": {},
   "source": [
    "##### Insights\n",
    "1. People most offen call their pets with first letter S, C or B"
   ]
  },
  {
   "cell_type": "code",
   "execution_count": 64,
   "id": "3ee28aa2",
   "metadata": {},
   "outputs": [
    {
     "data": {
      "image/png": "[encoded data removed]",
      "text/plain": [
       "<Figure size 1152x576 with 1 Axes>"
      ]
     },
     "metadata": {},
     "output_type": "display_data"
    }
   ],
   "source": [
    "series_numerator = master['rating_numerator'].value_counts()\n",
    "plt.pie(series_numerator, labels=(list(series_numerator.index[:6])+['']*5))\n",
    "plt.legend(series_numerator.index, bbox_to_anchor=(1.05, 0.9), loc='upper left', borderaxespad=0)\n",
    "plt.title('Pets rated by their owners', size= 20)\n",
    "plt.savefig('piechart.png')"
   ]
  },
  {
   "cell_type": "markdown",
   "id": "253d3345",
   "metadata": {},
   "source": [
    "##### Insights\n",
    "1. People tend to rate their dogs highly, most of the ratings were 10"
   ]
  }
 ],
 "metadata": {
  "kernelspec": {
   "display_name": "Python 3 (ipykernel)",
   "language": "python",
   "name": "python3"
  },
  "language_info": {
   "codemirror_mode": {
    "name": "ipython",
    "version": 3
   },
   "file_extension": ".py",
   "mimetype": "text/x-python",
   "name": "python",
   "nbconvert_exporter": "python",
   "pygments_lexer": "ipython3",
   "version": "3.10.1"
  }
 },
 "nbformat": 4,
 "nbformat_minor": 5
}
